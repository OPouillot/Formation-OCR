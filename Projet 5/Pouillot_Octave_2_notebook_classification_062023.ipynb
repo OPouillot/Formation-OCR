{
 "cells": [
  {
   "cell_type": "markdown",
   "id": "5fcaa603-343a-4bf3-adc4-480f0b101b8f",
   "metadata": {},
   "source": [
    "# Classifiez automatiquement des biens de consommation\n",
    "# Classification supervisée"
   ]
  },
  {
   "cell_type": "code",
   "execution_count": 1,
   "id": "2a63d4f6",
   "metadata": {
    "tags": []
   },
   "outputs": [],
   "source": [
    "%load_ext pycodestyle_magic\n",
    "%pycodestyle_on"
   ]
  },
  {
   "cell_type": "markdown",
   "id": "d1e3baea",
   "metadata": {},
   "source": [
    "# Imports"
   ]
  },
  {
   "cell_type": "code",
   "execution_count": 2,
   "id": "905ba60d",
   "metadata": {
    "scrolled": true
   },
   "outputs": [],
   "source": [
    "import sys\n",
    "import time\n",
    "import os\n",
    "from glob import glob\n",
    "\n",
    "import pandas as pd\n",
    "import numpy as np\n",
    "import seaborn as sns\n",
    "import matplotlib.pyplot as plt\n",
    "from matplotlib.image import imread\n",
    "from sklearn import metrics, preprocessing, manifold\n",
    "from sklearn.model_selection import train_test_split\n",
    "\n",
    "import shutil\n",
    "from PIL import Image\n",
    "import cv2\n",
    "\n",
    "import tensorflow as tf\n",
    "from tensorflow.keras.models import Model, Sequential\n",
    "from tensorflow.keras.layers import GlobalAveragePooling1D\n",
    "from tensorflow.keras.layers import GlobalAveragePooling2D\n",
    "from tensorflow.keras.layers import Flatten, Dense, Dropout, Rescaling\n",
    "from tensorflow.keras.layers import RandomFlip, RandomRotation, RandomZoom\n",
    "from tensorflow.keras.callbacks import EarlyStopping, ModelCheckpoint\n",
    "from tensorflow.keras.applications.vgg16 import VGG16\n",
    "from tensorflow.keras.applications.vgg16 import preprocess_input\n",
    "from tensorflow.keras.preprocessing.image import load_img, img_to_array\n",
    "from tensorflow.keras.utils import to_categorical"
   ]
  },
  {
   "cell_type": "code",
   "execution_count": 3,
   "id": "dbe92731",
   "metadata": {},
   "outputs": [
    {
     "data": {
      "text/plain": [
       "(1050, 10)"
      ]
     },
     "execution_count": 3,
     "metadata": {},
     "output_type": "execute_result"
    }
   ],
   "source": [
    "file_path = 'data_cleaned.csv'\n",
    "df = pd.read_csv(file_path)\n",
    "df.shape"
   ]
  },
  {
   "cell_type": "code",
   "execution_count": 4,
   "id": "5363c5e7",
   "metadata": {},
   "outputs": [],
   "source": [
    "train_size = 0.75\n",
    "val_size = 0.25\n",
    "test_size = 0.25\n",
    "\n",
    "batch_size = 64"
   ]
  },
  {
   "cell_type": "markdown",
   "id": "de8382a4",
   "metadata": {},
   "source": [
    "# Prétraitement"
   ]
  },
  {
   "cell_type": "code",
   "execution_count": 5,
   "id": "f7bb859e",
   "metadata": {
    "scrolled": true
   },
   "outputs": [
    {
     "data": {
      "text/html": [
       "<div>\n",
       "<style scoped>\n",
       "    .dataframe tbody tr th:only-of-type {\n",
       "        vertical-align: middle;\n",
       "    }\n",
       "\n",
       "    .dataframe tbody tr th {\n",
       "        vertical-align: top;\n",
       "    }\n",
       "\n",
       "    .dataframe thead th {\n",
       "        text-align: right;\n",
       "    }\n",
       "</style>\n",
       "<table border=\"1\" class=\"dataframe\">\n",
       "  <thead>\n",
       "    <tr style=\"text-align: right;\">\n",
       "      <th></th>\n",
       "      <th>uniq_id</th>\n",
       "      <th>product_name</th>\n",
       "      <th>product_category_tree</th>\n",
       "      <th>image</th>\n",
       "      <th>description</th>\n",
       "      <th>cat1</th>\n",
       "      <th>sentence_bow_lem</th>\n",
       "      <th>sentence_bow</th>\n",
       "      <th>sentence_dl</th>\n",
       "      <th>img_path</th>\n",
       "    </tr>\n",
       "  </thead>\n",
       "  <tbody>\n",
       "    <tr>\n",
       "      <th>0</th>\n",
       "      <td>55b85ea15a1536d46b7190ad6fff8ce7</td>\n",
       "      <td>Elegance Polyester Multicolor Abstract Eyelet ...</td>\n",
       "      <td>[\"Home Furnishing &gt;&gt; Curtains &amp; Accessories &gt;&gt;...</td>\n",
       "      <td>55b85ea15a1536d46b7190ad6fff8ce7.jpg</td>\n",
       "      <td>Key Features of Elegance Polyester Multicolor ...</td>\n",
       "      <td>Home Furnishing</td>\n",
       "      <td>key feature elegance polyester multicolor abst...</td>\n",
       "      <td>key features elegance polyester multicolor abs...</td>\n",
       "      <td>key features of elegance polyester multicolor ...</td>\n",
       "      <td>C:\\Users\\octav\\Documents\\Formation Data Scient...</td>\n",
       "    </tr>\n",
       "    <tr>\n",
       "      <th>1</th>\n",
       "      <td>7b72c92c2f6c40268628ec5f14c6d590</td>\n",
       "      <td>Sathiyas Cotton Bath Towel</td>\n",
       "      <td>[\"Baby Care &gt;&gt; Baby Bath &amp; Skin &gt;&gt; Baby Bath T...</td>\n",
       "      <td>7b72c92c2f6c40268628ec5f14c6d590.jpg</td>\n",
       "      <td>Specifications of Sathiyas Cotton Bath Towel (...</td>\n",
       "      <td>Baby Care</td>\n",
       "      <td>specification sathiyas cotton bath towel bath ...</td>\n",
       "      <td>specifications sathiyas cotton bath towel bath...</td>\n",
       "      <td>specifications of sathiyas cotton bath towel 3...</td>\n",
       "      <td>C:\\Users\\octav\\Documents\\Formation Data Scient...</td>\n",
       "    </tr>\n",
       "    <tr>\n",
       "      <th>2</th>\n",
       "      <td>64d5d4a258243731dc7bbb1eef49ad74</td>\n",
       "      <td>Eurospa Cotton Terry Face Towel Set</td>\n",
       "      <td>[\"Baby Care &gt;&gt; Baby Bath &amp; Skin &gt;&gt; Baby Bath T...</td>\n",
       "      <td>64d5d4a258243731dc7bbb1eef49ad74.jpg</td>\n",
       "      <td>Key Features of Eurospa Cotton Terry Face Towe...</td>\n",
       "      <td>Baby Care</td>\n",
       "      <td>key feature eurospa cotton terry face towel se...</td>\n",
       "      <td>key features eurospa cotton terry face towel s...</td>\n",
       "      <td>key features of eurospa cotton terry face towe...</td>\n",
       "      <td>C:\\Users\\octav\\Documents\\Formation Data Scient...</td>\n",
       "    </tr>\n",
       "  </tbody>\n",
       "</table>\n",
       "</div>"
      ],
      "text/plain": [
       "                            uniq_id  \\\n",
       "0  55b85ea15a1536d46b7190ad6fff8ce7   \n",
       "1  7b72c92c2f6c40268628ec5f14c6d590   \n",
       "2  64d5d4a258243731dc7bbb1eef49ad74   \n",
       "\n",
       "                                        product_name  \\\n",
       "0  Elegance Polyester Multicolor Abstract Eyelet ...   \n",
       "1                         Sathiyas Cotton Bath Towel   \n",
       "2                Eurospa Cotton Terry Face Towel Set   \n",
       "\n",
       "                               product_category_tree  \\\n",
       "0  [\"Home Furnishing >> Curtains & Accessories >>...   \n",
       "1  [\"Baby Care >> Baby Bath & Skin >> Baby Bath T...   \n",
       "2  [\"Baby Care >> Baby Bath & Skin >> Baby Bath T...   \n",
       "\n",
       "                                  image  \\\n",
       "0  55b85ea15a1536d46b7190ad6fff8ce7.jpg   \n",
       "1  7b72c92c2f6c40268628ec5f14c6d590.jpg   \n",
       "2  64d5d4a258243731dc7bbb1eef49ad74.jpg   \n",
       "\n",
       "                                         description             cat1  \\\n",
       "0  Key Features of Elegance Polyester Multicolor ...  Home Furnishing   \n",
       "1  Specifications of Sathiyas Cotton Bath Towel (...        Baby Care   \n",
       "2  Key Features of Eurospa Cotton Terry Face Towe...        Baby Care   \n",
       "\n",
       "                                    sentence_bow_lem  \\\n",
       "0  key feature elegance polyester multicolor abst...   \n",
       "1  specification sathiyas cotton bath towel bath ...   \n",
       "2  key feature eurospa cotton terry face towel se...   \n",
       "\n",
       "                                        sentence_bow  \\\n",
       "0  key features elegance polyester multicolor abs...   \n",
       "1  specifications sathiyas cotton bath towel bath...   \n",
       "2  key features eurospa cotton terry face towel s...   \n",
       "\n",
       "                                         sentence_dl  \\\n",
       "0  key features of elegance polyester multicolor ...   \n",
       "1  specifications of sathiyas cotton bath towel 3...   \n",
       "2  key features of eurospa cotton terry face towe...   \n",
       "\n",
       "                                            img_path  \n",
       "0  C:\\Users\\octav\\Documents\\Formation Data Scient...  \n",
       "1  C:\\Users\\octav\\Documents\\Formation Data Scient...  \n",
       "2  C:\\Users\\octav\\Documents\\Formation Data Scient...  "
      ]
     },
     "execution_count": 5,
     "metadata": {},
     "output_type": "execute_result"
    }
   ],
   "source": [
    "df.head(3)"
   ]
  },
  {
   "cell_type": "code",
   "execution_count": 6,
   "id": "5b851c04",
   "metadata": {},
   "outputs": [
    {
     "data": {
      "text/html": [
       "<div>\n",
       "<style scoped>\n",
       "    .dataframe tbody tr th:only-of-type {\n",
       "        vertical-align: middle;\n",
       "    }\n",
       "\n",
       "    .dataframe tbody tr th {\n",
       "        vertical-align: top;\n",
       "    }\n",
       "\n",
       "    .dataframe thead th {\n",
       "        text-align: right;\n",
       "    }\n",
       "</style>\n",
       "<table border=\"1\" class=\"dataframe\">\n",
       "  <thead>\n",
       "    <tr style=\"text-align: right;\">\n",
       "      <th></th>\n",
       "      <th>uniq_id</th>\n",
       "      <th>image</th>\n",
       "      <th>cat1</th>\n",
       "      <th>img_path</th>\n",
       "    </tr>\n",
       "  </thead>\n",
       "  <tbody>\n",
       "    <tr>\n",
       "      <th>0</th>\n",
       "      <td>55b85ea15a1536d46b7190ad6fff8ce7</td>\n",
       "      <td>55b85ea15a1536d46b7190ad6fff8ce7.jpg</td>\n",
       "      <td>Home Furnishing</td>\n",
       "      <td>C:\\Users\\octav\\Documents\\Formation Data Scient...</td>\n",
       "    </tr>\n",
       "    <tr>\n",
       "      <th>1</th>\n",
       "      <td>7b72c92c2f6c40268628ec5f14c6d590</td>\n",
       "      <td>7b72c92c2f6c40268628ec5f14c6d590.jpg</td>\n",
       "      <td>Baby Care</td>\n",
       "      <td>C:\\Users\\octav\\Documents\\Formation Data Scient...</td>\n",
       "    </tr>\n",
       "    <tr>\n",
       "      <th>2</th>\n",
       "      <td>64d5d4a258243731dc7bbb1eef49ad74</td>\n",
       "      <td>64d5d4a258243731dc7bbb1eef49ad74.jpg</td>\n",
       "      <td>Baby Care</td>\n",
       "      <td>C:\\Users\\octav\\Documents\\Formation Data Scient...</td>\n",
       "    </tr>\n",
       "    <tr>\n",
       "      <th>3</th>\n",
       "      <td>d4684dcdc759dd9cdf41504698d737d8</td>\n",
       "      <td>d4684dcdc759dd9cdf41504698d737d8.jpg</td>\n",
       "      <td>Home Furnishing</td>\n",
       "      <td>C:\\Users\\octav\\Documents\\Formation Data Scient...</td>\n",
       "    </tr>\n",
       "    <tr>\n",
       "      <th>4</th>\n",
       "      <td>6325b6870c54cd47be6ebfbffa620ec7</td>\n",
       "      <td>6325b6870c54cd47be6ebfbffa620ec7.jpg</td>\n",
       "      <td>Home Furnishing</td>\n",
       "      <td>C:\\Users\\octav\\Documents\\Formation Data Scient...</td>\n",
       "    </tr>\n",
       "  </tbody>\n",
       "</table>\n",
       "</div>"
      ],
      "text/plain": [
       "                            uniq_id                                 image  \\\n",
       "0  55b85ea15a1536d46b7190ad6fff8ce7  55b85ea15a1536d46b7190ad6fff8ce7.jpg   \n",
       "1  7b72c92c2f6c40268628ec5f14c6d590  7b72c92c2f6c40268628ec5f14c6d590.jpg   \n",
       "2  64d5d4a258243731dc7bbb1eef49ad74  64d5d4a258243731dc7bbb1eef49ad74.jpg   \n",
       "3  d4684dcdc759dd9cdf41504698d737d8  d4684dcdc759dd9cdf41504698d737d8.jpg   \n",
       "4  6325b6870c54cd47be6ebfbffa620ec7  6325b6870c54cd47be6ebfbffa620ec7.jpg   \n",
       "\n",
       "              cat1                                           img_path  \n",
       "0  Home Furnishing  C:\\Users\\octav\\Documents\\Formation Data Scient...  \n",
       "1        Baby Care  C:\\Users\\octav\\Documents\\Formation Data Scient...  \n",
       "2        Baby Care  C:\\Users\\octav\\Documents\\Formation Data Scient...  \n",
       "3  Home Furnishing  C:\\Users\\octav\\Documents\\Formation Data Scient...  \n",
       "4  Home Furnishing  C:\\Users\\octav\\Documents\\Formation Data Scient...  "
      ]
     },
     "execution_count": 6,
     "metadata": {},
     "output_type": "execute_result"
    }
   ],
   "source": [
    "data_to_drop = ['product_name',\n",
    "                'product_category_tree',\n",
    "                'description',\n",
    "                'sentence_bow_lem',\n",
    "                'sentence_bow',\n",
    "                'sentence_dl']\n",
    "df.drop(columns=data_to_drop, inplace=True)\n",
    "\n",
    "df.head()"
   ]
  },
  {
   "cell_type": "code",
   "execution_count": 7,
   "id": "02051f00",
   "metadata": {},
   "outputs": [],
   "source": [
    "def train_test_folders(df, test_size=0.25):\n",
    "\n",
    "    # Créer les dossiers train, et test si non présent\n",
    "    os.makedirs('train', exist_ok=True)\n",
    "    os.makedirs('test', exist_ok=True)\n",
    "\n",
    "    # Obtenir les classes uniques du dataframe\n",
    "    classes = df['cat1'].unique()\n",
    "\n",
    "    # Parcourir chaque classe\n",
    "    for class_name in classes:\n",
    "\n",
    "        os.makedirs(os.path.join('train',\n",
    "                                 class_name), exist_ok=True)\n",
    "        os.makedirs(os.path.join('test',\n",
    "                                 class_name), exist_ok=True)\n",
    "        # Filtrer les images de la classe spécifique\n",
    "        class_images = df[df['cat1'] == class_name]\n",
    "\n",
    "        # Diviser les images en ensembles de train, validation et test\n",
    "        train_images, test_images = train_test_split(\n",
    "            class_images,\n",
    "            test_size=test_size,\n",
    "            random_state=42)\n",
    "\n",
    "        # Déplacer les images dans les dossiers correspondants\n",
    "        for _, image_row in train_images.iterrows():\n",
    "            shutil.copy(image_row['img_path'],\n",
    "                        os.path.join('train',\n",
    "                                     class_name,\n",
    "                                     image_row['image']))\n",
    "        for _, image_row in test_images.iterrows():\n",
    "            shutil.copy(image_row['img_path'],\n",
    "                        os.path.join('test',\n",
    "                                     class_name,\n",
    "                                     image_row['image']))"
   ]
  },
  {
   "cell_type": "code",
   "execution_count": 8,
   "id": "d0bfc190",
   "metadata": {},
   "outputs": [],
   "source": [
    "train_test_folders(df, test_size)"
   ]
  },
  {
   "cell_type": "code",
   "execution_count": 9,
   "id": "1049c64d",
   "metadata": {},
   "outputs": [
    {
     "data": {
      "text/plain": [
       "array(['Home Furnishing', 'Baby Care', 'Watches',\n",
       "       'Home Decor & Festive Needs', 'Kitchen & Dining',\n",
       "       'Beauty and Personal Care', 'Computers'], dtype=object)"
      ]
     },
     "execution_count": 9,
     "metadata": {},
     "output_type": "execute_result"
    }
   ],
   "source": [
    "df[\"cat1\"].unique()"
   ]
  },
  {
   "cell_type": "code",
   "execution_count": 10,
   "id": "e0f2efb5",
   "metadata": {},
   "outputs": [
    {
     "name": "stdout",
     "output_type": "stream",
     "text": [
      "784\n",
      "266\n"
     ]
    },
    {
     "data": {
      "text/html": [
       "<div>\n",
       "<style scoped>\n",
       "    .dataframe tbody tr th:only-of-type {\n",
       "        vertical-align: middle;\n",
       "    }\n",
       "\n",
       "    .dataframe tbody tr th {\n",
       "        vertical-align: top;\n",
       "    }\n",
       "\n",
       "    .dataframe thead th {\n",
       "        text-align: right;\n",
       "    }\n",
       "</style>\n",
       "<table border=\"1\" class=\"dataframe\">\n",
       "  <thead>\n",
       "    <tr style=\"text-align: right;\">\n",
       "      <th></th>\n",
       "      <th>image_path</th>\n",
       "      <th>label_name</th>\n",
       "      <th>label</th>\n",
       "    </tr>\n",
       "  </thead>\n",
       "  <tbody>\n",
       "    <tr>\n",
       "      <th>0</th>\n",
       "      <td>train\\Baby Care\\057836ecde71565f8ebdd576e41fdc...</td>\n",
       "      <td>Baby Care</td>\n",
       "      <td>0</td>\n",
       "    </tr>\n",
       "    <tr>\n",
       "      <th>1</th>\n",
       "      <td>train\\Baby Care\\0906fd9cc604fbba05a502e01d763c...</td>\n",
       "      <td>Baby Care</td>\n",
       "      <td>0</td>\n",
       "    </tr>\n",
       "    <tr>\n",
       "      <th>2</th>\n",
       "      <td>train\\Baby Care\\093bcad64d11c0aed903a8dd787ef0...</td>\n",
       "      <td>Baby Care</td>\n",
       "      <td>0</td>\n",
       "    </tr>\n",
       "    <tr>\n",
       "      <th>3</th>\n",
       "      <td>train\\Baby Care\\0991e8d8f884003ab1889097119108...</td>\n",
       "      <td>Baby Care</td>\n",
       "      <td>0</td>\n",
       "    </tr>\n",
       "    <tr>\n",
       "      <th>4</th>\n",
       "      <td>train\\Baby Care\\0bff0eda7a6677dc1acb0477a1f7a1...</td>\n",
       "      <td>Baby Care</td>\n",
       "      <td>0</td>\n",
       "    </tr>\n",
       "  </tbody>\n",
       "</table>\n",
       "</div>"
      ],
      "text/plain": [
       "                                          image_path label_name  label\n",
       "0  train\\Baby Care\\057836ecde71565f8ebdd576e41fdc...  Baby Care      0\n",
       "1  train\\Baby Care\\0906fd9cc604fbba05a502e01d763c...  Baby Care      0\n",
       "2  train\\Baby Care\\093bcad64d11c0aed903a8dd787ef0...  Baby Care      0\n",
       "3  train\\Baby Care\\0991e8d8f884003ab1889097119108...  Baby Care      0\n",
       "4  train\\Baby Care\\0bff0eda7a6677dc1acb0477a1f7a1...  Baby Care      0"
      ]
     },
     "execution_count": 10,
     "metadata": {},
     "output_type": "execute_result"
    }
   ],
   "source": [
    "path = \"train/\"\n",
    "path_test = \"test/\"\n",
    "\n",
    "list_labels = df[\"cat1\"].unique()\n",
    "label_no_name = \"no_name \"\n",
    "\n",
    "\n",
    "def photo_class(photo):\n",
    "    for label in list_labels:\n",
    "        if label in photo[:40]:\n",
    "            return label\n",
    "    return label_no_name\n",
    "\n",
    "\n",
    "data_path = glob(path+'*/*.jp*')\n",
    "data_test_path = glob(path_test+'*/*.jp*')\n",
    "\n",
    "\n",
    "def data_fct(path):\n",
    "    list_photos = [file for file in path]\n",
    "    print(len(list_photos))\n",
    "    data = pd.DataFrame()\n",
    "    data[\"image_path\"] = list_photos\n",
    "    data[\"label_name\"] = data[\"image_path\"].apply(lambda x: photo_class(x))\n",
    "    return data\n",
    "\n",
    "\n",
    "data = data_fct(data_path)\n",
    "data_test = data_fct(data_test_path)\n",
    "\n",
    "le = preprocessing.LabelEncoder()\n",
    "le.fit(data[\"label_name\"])\n",
    "data[\"label\"] = le.transform(data[\"label_name\"])\n",
    "\n",
    "data_test[\"label\"] = le.transform(data_test[\"label_name\"])\n",
    "data.head()"
   ]
  },
  {
   "cell_type": "code",
   "execution_count": 11,
   "id": "041544b3",
   "metadata": {},
   "outputs": [
    {
     "data": {
      "text/html": [
       "<div>\n",
       "<style scoped>\n",
       "    .dataframe tbody tr th:only-of-type {\n",
       "        vertical-align: middle;\n",
       "    }\n",
       "\n",
       "    .dataframe tbody tr th {\n",
       "        vertical-align: top;\n",
       "    }\n",
       "\n",
       "    .dataframe thead th {\n",
       "        text-align: right;\n",
       "    }\n",
       "</style>\n",
       "<table border=\"1\" class=\"dataframe\">\n",
       "  <thead>\n",
       "    <tr style=\"text-align: right;\">\n",
       "      <th></th>\n",
       "      <th>image_path</th>\n",
       "      <th>label_name</th>\n",
       "      <th>label</th>\n",
       "    </tr>\n",
       "  </thead>\n",
       "  <tbody>\n",
       "    <tr>\n",
       "      <th>0</th>\n",
       "      <td>test\\Baby Care\\184ecf07ca4e2872eaf53d2344a1e78...</td>\n",
       "      <td>Baby Care</td>\n",
       "      <td>0</td>\n",
       "    </tr>\n",
       "    <tr>\n",
       "      <th>1</th>\n",
       "      <td>test\\Baby Care\\25ce025c38c55f28fd0ea3bb0200df7...</td>\n",
       "      <td>Baby Care</td>\n",
       "      <td>0</td>\n",
       "    </tr>\n",
       "    <tr>\n",
       "      <th>2</th>\n",
       "      <td>test\\Baby Care\\27b7851ae3dfc2ae8c1958cebe93bf0...</td>\n",
       "      <td>Baby Care</td>\n",
       "      <td>0</td>\n",
       "    </tr>\n",
       "    <tr>\n",
       "      <th>3</th>\n",
       "      <td>test\\Baby Care\\2c8912b849cf73676d025aa99203b6d...</td>\n",
       "      <td>Baby Care</td>\n",
       "      <td>0</td>\n",
       "    </tr>\n",
       "    <tr>\n",
       "      <th>4</th>\n",
       "      <td>test\\Baby Care\\30ab693b54e99a469a1152b5db14aa4...</td>\n",
       "      <td>Baby Care</td>\n",
       "      <td>0</td>\n",
       "    </tr>\n",
       "  </tbody>\n",
       "</table>\n",
       "</div>"
      ],
      "text/plain": [
       "                                          image_path label_name  label\n",
       "0  test\\Baby Care\\184ecf07ca4e2872eaf53d2344a1e78...  Baby Care      0\n",
       "1  test\\Baby Care\\25ce025c38c55f28fd0ea3bb0200df7...  Baby Care      0\n",
       "2  test\\Baby Care\\27b7851ae3dfc2ae8c1958cebe93bf0...  Baby Care      0\n",
       "3  test\\Baby Care\\2c8912b849cf73676d025aa99203b6d...  Baby Care      0\n",
       "4  test\\Baby Care\\30ab693b54e99a469a1152b5db14aa4...  Baby Care      0"
      ]
     },
     "execution_count": 11,
     "metadata": {},
     "output_type": "execute_result"
    }
   ],
   "source": [
    "data_test.head()"
   ]
  },
  {
   "cell_type": "code",
   "execution_count": 12,
   "id": "68184ad0",
   "metadata": {},
   "outputs": [
    {
     "data": {
      "text/html": [
       "<div>\n",
       "<style scoped>\n",
       "    .dataframe tbody tr th:only-of-type {\n",
       "        vertical-align: middle;\n",
       "    }\n",
       "\n",
       "    .dataframe tbody tr th {\n",
       "        vertical-align: top;\n",
       "    }\n",
       "\n",
       "    .dataframe thead th {\n",
       "        text-align: right;\n",
       "    }\n",
       "</style>\n",
       "<table border=\"1\" class=\"dataframe\">\n",
       "  <thead>\n",
       "    <tr style=\"text-align: right;\">\n",
       "      <th></th>\n",
       "      <th>image_path</th>\n",
       "      <th>label</th>\n",
       "    </tr>\n",
       "    <tr>\n",
       "      <th>label_name</th>\n",
       "      <th></th>\n",
       "      <th></th>\n",
       "    </tr>\n",
       "  </thead>\n",
       "  <tbody>\n",
       "    <tr>\n",
       "      <th>Baby Care</th>\n",
       "      <td>112</td>\n",
       "      <td>112</td>\n",
       "    </tr>\n",
       "    <tr>\n",
       "      <th>Beauty and Personal Care</th>\n",
       "      <td>112</td>\n",
       "      <td>112</td>\n",
       "    </tr>\n",
       "    <tr>\n",
       "      <th>Computers</th>\n",
       "      <td>112</td>\n",
       "      <td>112</td>\n",
       "    </tr>\n",
       "    <tr>\n",
       "      <th>Home Decor &amp; Festive Needs</th>\n",
       "      <td>112</td>\n",
       "      <td>112</td>\n",
       "    </tr>\n",
       "    <tr>\n",
       "      <th>Home Furnishing</th>\n",
       "      <td>112</td>\n",
       "      <td>112</td>\n",
       "    </tr>\n",
       "    <tr>\n",
       "      <th>Kitchen &amp; Dining</th>\n",
       "      <td>112</td>\n",
       "      <td>112</td>\n",
       "    </tr>\n",
       "    <tr>\n",
       "      <th>Watches</th>\n",
       "      <td>112</td>\n",
       "      <td>112</td>\n",
       "    </tr>\n",
       "  </tbody>\n",
       "</table>\n",
       "</div>"
      ],
      "text/plain": [
       "                            image_path  label\n",
       "label_name                                   \n",
       "Baby Care                          112    112\n",
       "Beauty and Personal Care           112    112\n",
       "Computers                          112    112\n",
       "Home Decor & Festive Needs         112    112\n",
       "Home Furnishing                    112    112\n",
       "Kitchen & Dining                   112    112\n",
       "Watches                            112    112"
      ]
     },
     "execution_count": 12,
     "metadata": {},
     "output_type": "execute_result"
    }
   ],
   "source": [
    "data.groupby('label_name').count()"
   ]
  },
  {
   "cell_type": "code",
   "execution_count": 13,
   "id": "d2fc7ea1",
   "metadata": {},
   "outputs": [
    {
     "data": {
      "text/html": [
       "<div>\n",
       "<style scoped>\n",
       "    .dataframe tbody tr th:only-of-type {\n",
       "        vertical-align: middle;\n",
       "    }\n",
       "\n",
       "    .dataframe tbody tr th {\n",
       "        vertical-align: top;\n",
       "    }\n",
       "\n",
       "    .dataframe thead th {\n",
       "        text-align: right;\n",
       "    }\n",
       "</style>\n",
       "<table border=\"1\" class=\"dataframe\">\n",
       "  <thead>\n",
       "    <tr style=\"text-align: right;\">\n",
       "      <th></th>\n",
       "      <th>image_path</th>\n",
       "      <th>label</th>\n",
       "    </tr>\n",
       "    <tr>\n",
       "      <th>label_name</th>\n",
       "      <th></th>\n",
       "      <th></th>\n",
       "    </tr>\n",
       "  </thead>\n",
       "  <tbody>\n",
       "    <tr>\n",
       "      <th>Baby Care</th>\n",
       "      <td>38</td>\n",
       "      <td>38</td>\n",
       "    </tr>\n",
       "    <tr>\n",
       "      <th>Beauty and Personal Care</th>\n",
       "      <td>38</td>\n",
       "      <td>38</td>\n",
       "    </tr>\n",
       "    <tr>\n",
       "      <th>Computers</th>\n",
       "      <td>38</td>\n",
       "      <td>38</td>\n",
       "    </tr>\n",
       "    <tr>\n",
       "      <th>Home Decor &amp; Festive Needs</th>\n",
       "      <td>38</td>\n",
       "      <td>38</td>\n",
       "    </tr>\n",
       "    <tr>\n",
       "      <th>Home Furnishing</th>\n",
       "      <td>38</td>\n",
       "      <td>38</td>\n",
       "    </tr>\n",
       "    <tr>\n",
       "      <th>Kitchen &amp; Dining</th>\n",
       "      <td>38</td>\n",
       "      <td>38</td>\n",
       "    </tr>\n",
       "    <tr>\n",
       "      <th>Watches</th>\n",
       "      <td>38</td>\n",
       "      <td>38</td>\n",
       "    </tr>\n",
       "  </tbody>\n",
       "</table>\n",
       "</div>"
      ],
      "text/plain": [
       "                            image_path  label\n",
       "label_name                                   \n",
       "Baby Care                           38     38\n",
       "Beauty and Personal Care            38     38\n",
       "Computers                           38     38\n",
       "Home Decor & Festive Needs          38     38\n",
       "Home Furnishing                     38     38\n",
       "Kitchen & Dining                    38     38\n",
       "Watches                             38     38"
      ]
     },
     "execution_count": 13,
     "metadata": {},
     "output_type": "execute_result"
    }
   ],
   "source": [
    "data_test.groupby('label_name').count()"
   ]
  },
  {
   "cell_type": "markdown",
   "id": "4676ba47",
   "metadata": {},
   "source": [
    "# Classification supervisée\n",
    "4 approches sont présentées :\n",
    "* Une approche simple par préparation initiale de l'ensemble des images avant classification supervisée\n",
    "* Une approche par data generator, permettant facilement la data augmentation. Les images sont directement récupérées à la volée dans le repertoire des images\n",
    "* Une approche récente proposée par Tensorflow.org par DataSet, sans data augmentation\n",
    "* Une approche par  DataSet, avec data augmentation intégrée au modèle : layer en début de modèle\n"
   ]
  },
  {
   "cell_type": "code",
   "execution_count": 14,
   "id": "39e5b5a5",
   "metadata": {},
   "outputs": [
    {
     "data": {
      "text/html": [
       "<div>\n",
       "<style scoped>\n",
       "    .dataframe tbody tr th:only-of-type {\n",
       "        vertical-align: middle;\n",
       "    }\n",
       "\n",
       "    .dataframe tbody tr th {\n",
       "        vertical-align: top;\n",
       "    }\n",
       "\n",
       "    .dataframe thead th {\n",
       "        text-align: right;\n",
       "    }\n",
       "</style>\n",
       "<table border=\"1\" class=\"dataframe\">\n",
       "  <thead>\n",
       "    <tr style=\"text-align: right;\">\n",
       "      <th></th>\n",
       "      <th>val_accuracy</th>\n",
       "      <th>val_loss</th>\n",
       "      <th>test_accuracy</th>\n",
       "      <th>test_loss</th>\n",
       "      <th>time</th>\n",
       "    </tr>\n",
       "  </thead>\n",
       "  <tbody>\n",
       "  </tbody>\n",
       "</table>\n",
       "</div>"
      ],
      "text/plain": [
       "Empty DataFrame\n",
       "Columns: [val_accuracy, val_loss, test_accuracy, test_loss, time]\n",
       "Index: []"
      ]
     },
     "execution_count": 14,
     "metadata": {},
     "output_type": "execute_result"
    }
   ],
   "source": [
    "# Score df initialisation\n",
    "\n",
    "scores = pd.DataFrame(columns=['val_accuracy',\n",
    "                               'val_loss',\n",
    "                               'test_accuracy',\n",
    "                               'test_loss',\n",
    "                               'time'])\n",
    "scores"
   ]
  },
  {
   "cell_type": "markdown",
   "id": "0fa5efa4",
   "metadata": {},
   "source": [
    "## Création du modèle de classification"
   ]
  },
  {
   "cell_type": "code",
   "execution_count": 15,
   "id": "2f71ae37",
   "metadata": {
    "scrolled": true
   },
   "outputs": [],
   "source": [
    "def create_model_fct():\n",
    "    # Récupération modèle pré-entraîné\n",
    "    model0 = VGG16(include_top=False,\n",
    "                   weights=\"imagenet\",\n",
    "                   input_shape=(224, 224, 3))\n",
    "\n",
    "    # Layer non entraînables = on garde les poids du modèle pré-entraîné\n",
    "    for layer in model0.layers:\n",
    "        layer.trainable = False\n",
    "\n",
    "    # Récupérer la sortie de ce réseau\n",
    "    x = model0.output\n",
    "    # Compléter le modèle\n",
    "    x = GlobalAveragePooling2D()(x)\n",
    "    x = Dense(256, activation='relu')(x)\n",
    "    x = Dropout(0.5)(x)\n",
    "    predictions = Dense(7, activation='softmax')(x)\n",
    "\n",
    "    # Définir le nouveau modèle\n",
    "    model = Model(inputs=model0.input, outputs=predictions)\n",
    "    # compilation du modèle\n",
    "    model.compile(loss=\"categorical_crossentropy\",\n",
    "                  optimizer='rmsprop',\n",
    "                  metrics=[\"accuracy\"])\n",
    "\n",
    "    print(model.summary())\n",
    "\n",
    "    return model"
   ]
  },
  {
   "cell_type": "markdown",
   "id": "f08acc77",
   "metadata": {},
   "source": [
    "## Approche préparation initiale des images"
   ]
  },
  {
   "cell_type": "code",
   "execution_count": 16,
   "id": "3dfd0fcd",
   "metadata": {},
   "outputs": [
    {
     "name": "stdout",
     "output_type": "stream",
     "text": [
      "0\n",
      "100\n",
      "200\n",
      "300\n",
      "400\n",
      "500\n"
     ]
    },
    {
     "name": "stderr",
     "output_type": "stream",
     "text": [
      "C:\\Users\\octav\\anaconda3\\lib\\site-packages\\PIL\\Image.py:3074: DecompressionBombWarning: Image size (93680328 pixels) exceeds limit of 89478485 pixels, could be decompression bomb DOS attack.\n",
      "  warnings.warn(\n"
     ]
    },
    {
     "name": "stdout",
     "output_type": "stream",
     "text": [
      "600\n",
      "700\n",
      "(784, 224, 224, 3)\n",
      "0\n",
      "100\n",
      "200\n",
      "(266, 224, 224, 3)\n"
     ]
    }
   ],
   "source": [
    "def image_prep_fct(data):\n",
    "    prepared_images = []\n",
    "\n",
    "    for image_num in range(len(data['image_path'])):\n",
    "        if image_num % 100 == 0:\n",
    "            print(image_num)\n",
    "        img = (load_img(data['image_path'][image_num],\n",
    "                        target_size=(224, 224)))\n",
    "        img = img_to_array(img)\n",
    "        img = img.reshape((img.shape[0], img.shape[1], img.shape[2]))\n",
    "        img = preprocess_input(img)\n",
    "        prepared_images.append(img)\n",
    "        prepared_images_np = np.array(prepared_images)\n",
    "\n",
    "    return prepared_images_np\n",
    "\n",
    "\n",
    "images_np = image_prep_fct(data)\n",
    "print(images_np.shape)\n",
    "\n",
    "images_np_test = image_prep_fct(data_test)\n",
    "print(images_np_test.shape)"
   ]
  },
  {
   "cell_type": "code",
   "execution_count": 17,
   "id": "c2396499",
   "metadata": {},
   "outputs": [
    {
     "data": {
      "text/plain": [
       "array([[1., 0., 0., ..., 0., 0., 0.],\n",
       "       [1., 0., 0., ..., 0., 0., 0.],\n",
       "       [1., 0., 0., ..., 0., 0., 0.],\n",
       "       ...,\n",
       "       [0., 0., 0., ..., 0., 0., 1.],\n",
       "       [0., 0., 0., ..., 0., 0., 1.],\n",
       "       [0., 0., 0., ..., 0., 0., 1.]], dtype=float32)"
      ]
     },
     "execution_count": 17,
     "metadata": {},
     "output_type": "execute_result"
    }
   ],
   "source": [
    "X = images_np\n",
    "y = to_categorical(data['label'])\n",
    "\n",
    "X_test = images_np_test\n",
    "y_test = to_categorical(data_test['label'])\n",
    "\n",
    "y"
   ]
  },
  {
   "cell_type": "code",
   "execution_count": 18,
   "id": "7efe5423",
   "metadata": {},
   "outputs": [
    {
     "data": {
      "text/plain": [
       "(588, 224, 224, 3)"
      ]
     },
     "execution_count": 18,
     "metadata": {},
     "output_type": "execute_result"
    }
   ],
   "source": [
    "X_train, X_val, y_train, y_val = train_test_split(X, y,\n",
    "                                                  stratify=y,\n",
    "                                                  test_size=val_size,\n",
    "                                                  random_state=42)\n",
    "X_train.shape"
   ]
  },
  {
   "cell_type": "code",
   "execution_count": 19,
   "id": "c01cc07b",
   "metadata": {
    "scrolled": true
   },
   "outputs": [
    {
     "name": "stdout",
     "output_type": "stream",
     "text": [
      "Model: \"model\"\n",
      "_________________________________________________________________\n",
      " Layer (type)                Output Shape              Param #   \n",
      "=================================================================\n",
      " input_1 (InputLayer)        [(None, 224, 224, 3)]     0         \n",
      "                                                                 \n",
      " block1_conv1 (Conv2D)       (None, 224, 224, 64)      1792      \n",
      "                                                                 \n",
      " block1_conv2 (Conv2D)       (None, 224, 224, 64)      36928     \n",
      "                                                                 \n",
      " block1_pool (MaxPooling2D)  (None, 112, 112, 64)      0         \n",
      "                                                                 \n",
      " block2_conv1 (Conv2D)       (None, 112, 112, 128)     73856     \n",
      "                                                                 \n",
      " block2_conv2 (Conv2D)       (None, 112, 112, 128)     147584    \n",
      "                                                                 \n",
      " block2_pool (MaxPooling2D)  (None, 56, 56, 128)       0         \n",
      "                                                                 \n",
      " block3_conv1 (Conv2D)       (None, 56, 56, 256)       295168    \n",
      "                                                                 \n",
      " block3_conv2 (Conv2D)       (None, 56, 56, 256)       590080    \n",
      "                                                                 \n",
      " block3_conv3 (Conv2D)       (None, 56, 56, 256)       590080    \n",
      "                                                                 \n",
      " block3_pool (MaxPooling2D)  (None, 28, 28, 256)       0         \n",
      "                                                                 \n",
      " block4_conv1 (Conv2D)       (None, 28, 28, 512)       1180160   \n",
      "                                                                 \n",
      " block4_conv2 (Conv2D)       (None, 28, 28, 512)       2359808   \n",
      "                                                                 \n",
      " block4_conv3 (Conv2D)       (None, 28, 28, 512)       2359808   \n",
      "                                                                 \n",
      " block4_pool (MaxPooling2D)  (None, 14, 14, 512)       0         \n",
      "                                                                 \n",
      " block5_conv1 (Conv2D)       (None, 14, 14, 512)       2359808   \n",
      "                                                                 \n",
      " block5_conv2 (Conv2D)       (None, 14, 14, 512)       2359808   \n",
      "                                                                 \n",
      " block5_conv3 (Conv2D)       (None, 14, 14, 512)       2359808   \n",
      "                                                                 \n",
      " block5_pool (MaxPooling2D)  (None, 7, 7, 512)         0         \n",
      "                                                                 \n",
      " global_average_pooling2d (G  (None, 512)              0         \n",
      " lobalAveragePooling2D)                                          \n",
      "                                                                 \n",
      " dense (Dense)               (None, 256)               131328    \n",
      "                                                                 \n",
      " dropout (Dropout)           (None, 256)               0         \n",
      "                                                                 \n",
      " dense_1 (Dense)             (None, 7)                 1799      \n",
      "                                                                 \n",
      "=================================================================\n",
      "Total params: 14,847,815\n",
      "Trainable params: 133,127\n",
      "Non-trainable params: 14,714,688\n",
      "_________________________________________________________________\n",
      "None\n"
     ]
    }
   ],
   "source": [
    "# Création du modèle\n",
    "model1 = create_model_fct()\n",
    "\n",
    "# Création du callback\n",
    "model1_save_path1 = \"./model1_best_weights.h5\"\n",
    "checkpoint = ModelCheckpoint(model1_save_path1,\n",
    "                             monitor='val_loss',\n",
    "                             verbose=1,\n",
    "                             save_best_only=True,\n",
    "                             mode='min')\n",
    "es = EarlyStopping(monitor='val_loss', mode='min', verbose=1, patience=5)\n",
    "callbacks_list = [checkpoint, es]"
   ]
  },
  {
   "cell_type": "code",
   "execution_count": 20,
   "id": "99ee8ab6",
   "metadata": {
    "scrolled": true
   },
   "outputs": [
    {
     "name": "stdout",
     "output_type": "stream",
     "text": [
      "Epoch 1/50\n",
      "10/10 [==============================] - ETA: 0s - loss: 5.8517 - accuracy: 0.4422\n",
      "Epoch 1: val_loss improved from inf to 2.04326, saving model to .\\model1_best_weights.h5\n",
      "10/10 [==============================] - 63s 6s/step - loss: 5.8517 - accuracy: 0.4422 - val_loss: 2.0433 - val_accuracy: 0.6939\n",
      "Epoch 2/50\n",
      "10/10 [==============================] - ETA: 0s - loss: 2.2117 - accuracy: 0.6803\n",
      "Epoch 2: val_loss improved from 2.04326 to 1.84691, saving model to .\\model1_best_weights.h5\n",
      "10/10 [==============================] - 58s 6s/step - loss: 2.2117 - accuracy: 0.6803 - val_loss: 1.8469 - val_accuracy: 0.7347\n",
      "Epoch 3/50\n",
      "10/10 [==============================] - ETA: 0s - loss: 1.3471 - accuracy: 0.7636\n",
      "Epoch 3: val_loss improved from 1.84691 to 1.58518, saving model to .\\model1_best_weights.h5\n",
      "10/10 [==============================] - 58s 6s/step - loss: 1.3471 - accuracy: 0.7636 - val_loss: 1.5852 - val_accuracy: 0.7857\n",
      "Epoch 4/50\n",
      "10/10 [==============================] - ETA: 0s - loss: 0.9617 - accuracy: 0.8146\n",
      "Epoch 4: val_loss improved from 1.58518 to 1.43308, saving model to .\\model1_best_weights.h5\n",
      "10/10 [==============================] - 58s 6s/step - loss: 0.9617 - accuracy: 0.8146 - val_loss: 1.4331 - val_accuracy: 0.7806\n",
      "Epoch 5/50\n",
      "10/10 [==============================] - ETA: 0s - loss: 0.6623 - accuracy: 0.8384\n",
      "Epoch 5: val_loss improved from 1.43308 to 1.38947, saving model to .\\model1_best_weights.h5\n",
      "10/10 [==============================] - 58s 6s/step - loss: 0.6623 - accuracy: 0.8384 - val_loss: 1.3895 - val_accuracy: 0.7908\n",
      "Epoch 6/50\n",
      "10/10 [==============================] - ETA: 0s - loss: 0.5859 - accuracy: 0.8418\n",
      "Epoch 6: val_loss improved from 1.38947 to 1.32955, saving model to .\\model1_best_weights.h5\n",
      "10/10 [==============================] - 58s 6s/step - loss: 0.5859 - accuracy: 0.8418 - val_loss: 1.3296 - val_accuracy: 0.7806\n",
      "Epoch 7/50\n",
      "10/10 [==============================] - ETA: 0s - loss: 0.5019 - accuracy: 0.8690\n",
      "Epoch 7: val_loss improved from 1.32955 to 1.26460, saving model to .\\model1_best_weights.h5\n",
      "10/10 [==============================] - 58s 6s/step - loss: 0.5019 - accuracy: 0.8690 - val_loss: 1.2646 - val_accuracy: 0.7806\n",
      "Epoch 8/50\n",
      "10/10 [==============================] - ETA: 0s - loss: 0.3134 - accuracy: 0.8946\n",
      "Epoch 8: val_loss improved from 1.26460 to 1.18035, saving model to .\\model1_best_weights.h5\n",
      "10/10 [==============================] - 58s 6s/step - loss: 0.3134 - accuracy: 0.8946 - val_loss: 1.1803 - val_accuracy: 0.8112\n",
      "Epoch 9/50\n",
      "10/10 [==============================] - ETA: 0s - loss: 0.2524 - accuracy: 0.9201\n",
      "Epoch 9: val_loss did not improve from 1.18035\n",
      "10/10 [==============================] - 58s 6s/step - loss: 0.2524 - accuracy: 0.9201 - val_loss: 1.2276 - val_accuracy: 0.7806\n",
      "Epoch 10/50\n",
      "10/10 [==============================] - ETA: 0s - loss: 0.2231 - accuracy: 0.9269\n",
      "Epoch 10: val_loss improved from 1.18035 to 1.15636, saving model to .\\model1_best_weights.h5\n",
      "10/10 [==============================] - 58s 6s/step - loss: 0.2231 - accuracy: 0.9269 - val_loss: 1.1564 - val_accuracy: 0.8112\n",
      "Epoch 11/50\n",
      "10/10 [==============================] - ETA: 0s - loss: 0.2474 - accuracy: 0.9388\n",
      "Epoch 11: val_loss improved from 1.15636 to 1.15403, saving model to .\\model1_best_weights.h5\n",
      "10/10 [==============================] - 58s 6s/step - loss: 0.2474 - accuracy: 0.9388 - val_loss: 1.1540 - val_accuracy: 0.7908\n",
      "Epoch 12/50\n",
      "10/10 [==============================] - ETA: 0s - loss: 0.1488 - accuracy: 0.9490\n",
      "Epoch 12: val_loss did not improve from 1.15403\n",
      "10/10 [==============================] - 58s 6s/step - loss: 0.1488 - accuracy: 0.9490 - val_loss: 1.2982 - val_accuracy: 0.7959\n",
      "Epoch 13/50\n",
      "10/10 [==============================] - ETA: 0s - loss: 0.1332 - accuracy: 0.9541\n",
      "Epoch 13: val_loss did not improve from 1.15403\n",
      "10/10 [==============================] - 58s 6s/step - loss: 0.1332 - accuracy: 0.9541 - val_loss: 1.1878 - val_accuracy: 0.8010\n",
      "Epoch 14/50\n",
      "10/10 [==============================] - ETA: 0s - loss: 0.1441 - accuracy: 0.9490\n",
      "Epoch 14: val_loss did not improve from 1.15403\n",
      "10/10 [==============================] - 58s 6s/step - loss: 0.1441 - accuracy: 0.9490 - val_loss: 1.2520 - val_accuracy: 0.8010\n",
      "Epoch 15/50\n",
      "10/10 [==============================] - ETA: 0s - loss: 0.1245 - accuracy: 0.9524\n",
      "Epoch 15: val_loss did not improve from 1.15403\n",
      "10/10 [==============================] - 57s 6s/step - loss: 0.1245 - accuracy: 0.9524 - val_loss: 1.2826 - val_accuracy: 0.8265\n",
      "Epoch 16/50\n",
      "10/10 [==============================] - ETA: 0s - loss: 0.0591 - accuracy: 0.9762\n",
      "Epoch 16: val_loss did not improve from 1.15403\n",
      "10/10 [==============================] - 57s 6s/step - loss: 0.0591 - accuracy: 0.9762 - val_loss: 1.4469 - val_accuracy: 0.8163\n",
      "Epoch 16: early stopping\n"
     ]
    }
   ],
   "source": [
    "temps1 = time.time()\n",
    "\n",
    "# Entraîner sur les données d'entraînement (X_train, y_train)\n",
    "history1 = model1.fit(X_train, y_train,\n",
    "                      epochs=50, batch_size=batch_size,\n",
    "                      callbacks=callbacks_list,\n",
    "                      validation_data=(X_val, y_val),\n",
    "                      verbose=1)\n",
    "\n",
    "duration1 = time.time()-temps1"
   ]
  },
  {
   "cell_type": "code",
   "execution_count": 21,
   "id": "1c70fa79",
   "metadata": {
    "scrolled": true
   },
   "outputs": [
    {
     "name": "stdout",
     "output_type": "stream",
     "text": [
      "19/19 [==============================] - 43s 2s/step - loss: 0.0118 - accuracy: 0.9949\n",
      "Training Accuracy: 0.9949\n",
      "\n",
      "7/7 [==============================] - 14s 2s/step - loss: 1.4469 - accuracy: 0.8163\n",
      "Validation Accuracy:  0.8163\n"
     ]
    }
   ],
   "source": [
    "# Score du dernier epoch\n",
    "\n",
    "loss, accuracy = model1.evaluate(X_train, y_train, verbose=True)\n",
    "print(\"Training Accuracy: {:.4f}\".format(accuracy))\n",
    "print()\n",
    "loss, accuracy = model1.evaluate(X_val, y_val, verbose=True)\n",
    "print(\"Validation Accuracy:  {:.4f}\".format(accuracy))"
   ]
  },
  {
   "cell_type": "code",
   "execution_count": 22,
   "id": "c08e6dbb",
   "metadata": {},
   "outputs": [
    {
     "name": "stdout",
     "output_type": "stream",
     "text": [
      "7/7 [==============================] - 14s 2s/step - loss: 1.1540 - accuracy: 0.7908\n",
      "Validation Accuracy :  0.7908\n",
      "Test Accuracy       :  0.8045\n"
     ]
    }
   ],
   "source": [
    "# Score de l'epoch optimal\n",
    "\n",
    "model1.load_weights(model1_save_path1)\n",
    "\n",
    "val_loss, val_accuracy = model1.evaluate(X_val, y_val, verbose=True)\n",
    "print(\"Validation Accuracy :  {:.4f}\".format(val_accuracy))\n",
    "\n",
    "test_loss, test_accuracy = model1.evaluate(X_test, y_test, verbose=False)\n",
    "print(\"Test Accuracy       :  {:.4f}\".format(test_accuracy))"
   ]
  },
  {
   "cell_type": "code",
   "execution_count": 23,
   "id": "6e9afc18",
   "metadata": {},
   "outputs": [],
   "source": [
    "scores.loc[\"model1\", 'val_accuracy'] = val_accuracy\n",
    "scores.loc[\"model1\", 'val_loss'] = val_loss\n",
    "scores.loc[\"model1\", 'test_accuracy'] = test_accuracy\n",
    "scores.loc[\"model1\", 'test_loss'] = test_loss\n",
    "scores.loc[\"model1\", 'time'] = duration1"
   ]
  },
  {
   "cell_type": "code",
   "execution_count": 24,
   "id": "a0d0b6ae",
   "metadata": {},
   "outputs": [
    {
     "data": {
      "text/html": [
       "<div>\n",
       "<style scoped>\n",
       "    .dataframe tbody tr th:only-of-type {\n",
       "        vertical-align: middle;\n",
       "    }\n",
       "\n",
       "    .dataframe tbody tr th {\n",
       "        vertical-align: top;\n",
       "    }\n",
       "\n",
       "    .dataframe thead th {\n",
       "        text-align: right;\n",
       "    }\n",
       "</style>\n",
       "<table border=\"1\" class=\"dataframe\">\n",
       "  <thead>\n",
       "    <tr style=\"text-align: right;\">\n",
       "      <th></th>\n",
       "      <th>val_accuracy</th>\n",
       "      <th>val_loss</th>\n",
       "      <th>test_accuracy</th>\n",
       "      <th>test_loss</th>\n",
       "      <th>time</th>\n",
       "    </tr>\n",
       "  </thead>\n",
       "  <tbody>\n",
       "    <tr>\n",
       "      <th>model1</th>\n",
       "      <td>0.790816</td>\n",
       "      <td>1.154027</td>\n",
       "      <td>0.804511</td>\n",
       "      <td>1.005492</td>\n",
       "      <td>930.35524</td>\n",
       "    </tr>\n",
       "  </tbody>\n",
       "</table>\n",
       "</div>"
      ],
      "text/plain": [
       "       val_accuracy  val_loss test_accuracy test_loss       time\n",
       "model1     0.790816  1.154027      0.804511  1.005492  930.35524"
      ]
     },
     "execution_count": 24,
     "metadata": {},
     "output_type": "execute_result"
    }
   ],
   "source": [
    "scores"
   ]
  },
  {
   "cell_type": "code",
   "execution_count": 25,
   "id": "14e4e470",
   "metadata": {
    "scrolled": false
   },
   "outputs": [
    {
     "data": {
      "image/png": "[encoded data removed]",
      "text/plain": [
       "<Figure size 1000x500 with 2 Axes>"
      ]
     },
     "metadata": {},
     "output_type": "display_data"
    }
   ],
   "source": [
    "from plot_keras_history import show_history, plot_history\n",
    "\n",
    "show_history(history1)\n",
    "plot_history(history1, path=\"standard.png\")\n",
    "plt.close()"
   ]
  },
  {
   "cell_type": "code",
   "execution_count": 26,
   "id": "4d3af793",
   "metadata": {
    "scrolled": true
   },
   "outputs": [
    {
     "name": "stdout",
     "output_type": "stream",
     "text": [
      "7/7 [==============================] - 15s 2s/step\n",
      "[2 3 4 5 4 6 0 0 1 4 3 2 6 4 3 1 0 3 2 6 5 4 0 0 1 6 6 4 1 6 1 6 0 5 1 1 0\n",
      " 3 4 6 0 5 1 4 3 5 2 1 4 4 2 3 1 4 2 5 4 0 2 0 1 1 4 6 6 3 1 2 0 3 0 0 0 5\n",
      " 5 2 2 2 1 0 5 5 3 3 4 0 2 0 2 6 1 2 6 6 2 2 1 3 0 5 5 6 1 5 4 2 6 5 2 1 3\n",
      " 3 2 6 3 1 2 3 3 4 3 3 1 2 4 5 2 6 6 2 4 6 3 2 6 6 5 0 6 0 4 1 3 1 2 0 6 4\n",
      " 4 4 1 5 0 4 4 0 5 5 3 6 6 0 3 3 2 5 0 6 5 3 4 2 6 0 4 1 3 4 1 5 5 5 4 1 1\n",
      " 3 5 3 5 5 0 2 1 0 5 6]\n",
      "\n",
      "[2 3 4 5 0 6 0 0 1 4 3 2 6 0 5 1 0 3 2 6 5 4 3 0 1 6 6 4 1 6 1 2 1 5 0 3 0\n",
      " 4 0 6 0 5 1 4 2 5 2 1 4 4 6 3 1 4 2 5 3 0 2 4 2 1 4 6 6 3 1 2 0 3 0 0 0 5\n",
      " 5 2 2 2 1 0 5 5 3 0 4 1 5 0 3 6 0 2 6 6 2 1 1 2 0 5 5 6 1 5 4 2 6 5 3 6 3\n",
      " 3 1 6 3 4 2 3 3 4 3 6 1 2 0 5 2 6 6 2 4 6 3 2 6 6 5 0 6 0 0 1 3 1 3 0 6 4\n",
      " 4 4 1 5 0 0 4 5 0 5 3 6 6 3 3 3 0 5 0 6 5 3 4 2 6 0 0 2 3 0 1 5 5 5 4 2 1\n",
      " 3 2 4 5 5 0 2 1 0 5 6]\n"
     ]
    }
   ],
   "source": [
    "y_val_num = np.argmax(y_val, axis=1)\n",
    "y_val_pred = np.argmax(model1.predict(X_val), axis=1)\n",
    "y_val_num = np.argmax(y_val, axis=1)\n",
    "print(y_val_num)\n",
    "print()\n",
    "print(y_val_pred)"
   ]
  },
  {
   "cell_type": "code",
   "execution_count": 27,
   "id": "29d36903",
   "metadata": {},
   "outputs": [],
   "source": [
    "def conf_mat_transform(y_true, y_pred):\n",
    "    conf_mat = metrics.confusion_matrix(y_true, y_pred)\n",
    "\n",
    "    corresp = np.argmax(conf_mat, axis=0)\n",
    "    print(\"Correspondance des clusters : \", corresp)\n",
    "    labels = pd.Series(y_true, name=\"y_true\").to_frame()\n",
    "    labels['y_pred'] = y_pred\n",
    "    labels['y_pred_transform'] = labels['y_pred'].apply(lambda x: corresp[x])\n",
    "\n",
    "    return labels['y_pred_transform']"
   ]
  },
  {
   "cell_type": "code",
   "execution_count": 28,
   "id": "2d8e00a4",
   "metadata": {},
   "outputs": [
    {
     "name": "stdout",
     "output_type": "stream",
     "text": [
      "Correspondance des clusters :  [0 1 2 3 4 5 6]\n",
      "[[22  2  0  2  1  1  0]\n",
      " [ 2 20  3  1  1  0  1]\n",
      " [ 1  2 20  3  0  1  1]\n",
      " [ 1  0  2 21  2  1  1]\n",
      " [ 8  0  0  1 19  0  0]\n",
      " [ 1  0  1  0  0 26  0]\n",
      " [ 0  0  1  0  0  0 27]]\n",
      "\n",
      "              precision    recall  f1-score   support\n",
      "\n",
      "           0       0.63      0.79      0.70        28\n",
      "           1       0.83      0.71      0.77        28\n",
      "           2       0.74      0.71      0.73        28\n",
      "           3       0.75      0.75      0.75        28\n",
      "           4       0.83      0.68      0.75        28\n",
      "           5       0.90      0.93      0.91        28\n",
      "           6       0.90      0.96      0.93        28\n",
      "\n",
      "    accuracy                           0.79       196\n",
      "   macro avg       0.80      0.79      0.79       196\n",
      "weighted avg       0.80      0.79      0.79       196\n",
      "\n"
     ]
    }
   ],
   "source": [
    "y_val_pred_transform = conf_mat_transform(y_val_num, y_val_pred)\n",
    "conf_mat = metrics.confusion_matrix(y_val_num, y_val_pred_transform)\n",
    "print(conf_mat)\n",
    "print()\n",
    "print(metrics.classification_report(y_val_num, y_val_pred_transform))"
   ]
  },
  {
   "cell_type": "code",
   "execution_count": 29,
   "id": "a76b647b",
   "metadata": {},
   "outputs": [
    {
     "data": {
      "text/plain": [
       "<Axes: >"
      ]
     },
     "execution_count": 29,
     "metadata": {},
     "output_type": "execute_result"
    },
    {
     "data": {
      "image/png": "[encoded data removed]",
      "text/plain": [
       "<Figure size 600x400 with 2 Axes>"
      ]
     },
     "metadata": {},
     "output_type": "display_data"
    }
   ],
   "source": [
    "df_cm = pd.DataFrame(conf_mat, index=list_labels,\n",
    "                     columns=[i for i in \"0123456\"])\n",
    "plt.figure(figsize=(6, 4))\n",
    "sns.heatmap(df_cm, annot=True, cmap=\"Blues\")"
   ]
  },
  {
   "cell_type": "markdown",
   "id": "ae470e63",
   "metadata": {},
   "source": [
    "## Approche ImageDatagenerator avec data augmentation\n",
    "\n",
    "CF https://www.tensorflow.org/api_docs/python/tf/keras/preprocessing/image/ImageDataGenerator#flow (noté désormais comme \"deprecated\", incite à utiiser l'approche suivante)"
   ]
  },
  {
   "cell_type": "code",
   "execution_count": 30,
   "id": "7123abe8",
   "metadata": {},
   "outputs": [],
   "source": [
    "from tensorflow.keras.preprocessing.image import ImageDataGenerator"
   ]
  },
  {
   "cell_type": "code",
   "execution_count": 31,
   "id": "e523847c",
   "metadata": {},
   "outputs": [],
   "source": [
    "# Pour mélanger les images, classées initalement par classe\n",
    "data = data.sample(frac=1, random_state=42).reset_index(drop=True)"
   ]
  },
  {
   "cell_type": "code",
   "execution_count": 32,
   "id": "76026894",
   "metadata": {},
   "outputs": [],
   "source": [
    "def data_flow_fct(data, datagen, data_type=None):\n",
    "    data_flow = datagen.flow_from_dataframe(data,\n",
    "                                            directory='',\n",
    "                                            x_col='image_path',\n",
    "                                            y_col='label_name',\n",
    "                                            weight_col=None,\n",
    "                                            target_size=(256, 256),\n",
    "                                            classes=None,\n",
    "                                            class_mode='categorical',\n",
    "                                            batch_size=batch_size,\n",
    "                                            shuffle=True,\n",
    "                                            seed=42,\n",
    "                                            subset=data_type)\n",
    "    return data_flow"
   ]
  },
  {
   "cell_type": "code",
   "execution_count": 33,
   "id": "c8e30695",
   "metadata": {
    "scrolled": false
   },
   "outputs": [
    {
     "name": "stdout",
     "output_type": "stream",
     "text": [
      "Found 588 validated image filenames belonging to 7 classes.\n",
      "Found 196 validated image filenames belonging to 7 classes.\n",
      "Found 266 validated image filenames belonging to 7 classes.\n"
     ]
    },
    {
     "name": "stderr",
     "output_type": "stream",
     "text": [
      "1:36: E261 at least two spaces before inline comment\n",
      "1:36: E262 inline comment should start with '# '\n"
     ]
    }
   ],
   "source": [
    "datagen_train = ImageDataGenerator(#  featurewise_center=True,\n",
    "                                   #  featurewise_std_normalization=True,\n",
    "                                   rotation_range=20,\n",
    "                                   width_shift_range=0.2,\n",
    "                                   height_shift_range=0.2,\n",
    "                                   horizontal_flip=True,\n",
    "                                   validation_split=val_size,\n",
    "                                   preprocessing_function=preprocess_input)\n",
    "\n",
    "train_flow = data_flow_fct(data, datagen_train, data_type='training')\n",
    "val_flow = data_flow_fct(data, datagen_train, data_type='validation')\n",
    "\n",
    "datagen_test = ImageDataGenerator(validation_split=0,\n",
    "                                  preprocessing_function=preprocess_input)\n",
    "\n",
    "test_flow = data_flow_fct(data_test, datagen_test, data_type=None)\n",
    "\n",
    "# compute quantities required for featurewise normalization\n",
    "# (std, mean, and principal components if ZCA whitening is applied)\n",
    "datagen_train.fit(X_train)\n",
    "# fits the model on batches with real-time data augmentation:"
   ]
  },
  {
   "cell_type": "code",
   "execution_count": 34,
   "id": "6890a089",
   "metadata": {
    "scrolled": true
   },
   "outputs": [
    {
     "name": "stdout",
     "output_type": "stream",
     "text": [
      "Model: \"model_1\"\n",
      "_________________________________________________________________\n",
      " Layer (type)                Output Shape              Param #   \n",
      "=================================================================\n",
      " input_2 (InputLayer)        [(None, 224, 224, 3)]     0         \n",
      "                                                                 \n",
      " block1_conv1 (Conv2D)       (None, 224, 224, 64)      1792      \n",
      "                                                                 \n",
      " block1_conv2 (Conv2D)       (None, 224, 224, 64)      36928     \n",
      "                                                                 \n",
      " block1_pool (MaxPooling2D)  (None, 112, 112, 64)      0         \n",
      "                                                                 \n",
      " block2_conv1 (Conv2D)       (None, 112, 112, 128)     73856     \n",
      "                                                                 \n",
      " block2_conv2 (Conv2D)       (None, 112, 112, 128)     147584    \n",
      "                                                                 \n",
      " block2_pool (MaxPooling2D)  (None, 56, 56, 128)       0         \n",
      "                                                                 \n",
      " block3_conv1 (Conv2D)       (None, 56, 56, 256)       295168    \n",
      "                                                                 \n",
      " block3_conv2 (Conv2D)       (None, 56, 56, 256)       590080    \n",
      "                                                                 \n",
      " block3_conv3 (Conv2D)       (None, 56, 56, 256)       590080    \n",
      "                                                                 \n",
      " block3_pool (MaxPooling2D)  (None, 28, 28, 256)       0         \n",
      "                                                                 \n",
      " block4_conv1 (Conv2D)       (None, 28, 28, 512)       1180160   \n",
      "                                                                 \n",
      " block4_conv2 (Conv2D)       (None, 28, 28, 512)       2359808   \n",
      "                                                                 \n",
      " block4_conv3 (Conv2D)       (None, 28, 28, 512)       2359808   \n",
      "                                                                 \n",
      " block4_pool (MaxPooling2D)  (None, 14, 14, 512)       0         \n",
      "                                                                 \n",
      " block5_conv1 (Conv2D)       (None, 14, 14, 512)       2359808   \n",
      "                                                                 \n",
      " block5_conv2 (Conv2D)       (None, 14, 14, 512)       2359808   \n",
      "                                                                 \n",
      " block5_conv3 (Conv2D)       (None, 14, 14, 512)       2359808   \n",
      "                                                                 \n",
      " block5_pool (MaxPooling2D)  (None, 7, 7, 512)         0         \n",
      "                                                                 \n",
      " global_average_pooling2d_1   (None, 512)              0         \n",
      " (GlobalAveragePooling2D)                                        \n",
      "                                                                 \n",
      " dense_2 (Dense)             (None, 256)               131328    \n",
      "                                                                 \n",
      " dropout_1 (Dropout)         (None, 256)               0         \n",
      "                                                                 \n",
      " dense_3 (Dense)             (None, 7)                 1799      \n",
      "                                                                 \n",
      "=================================================================\n",
      "Total params: 14,847,815\n",
      "Trainable params: 133,127\n",
      "Non-trainable params: 14,714,688\n",
      "_________________________________________________________________\n",
      "None\n"
     ]
    }
   ],
   "source": [
    "model2 = create_model_fct()\n",
    "\n",
    "# Création du callback\n",
    "model2_save_path = \"./model2_best_weights.h5\"\n",
    "checkpoint = ModelCheckpoint(model2_save_path,\n",
    "                             monitor='val_loss',\n",
    "                             verbose=1,\n",
    "                             save_best_only=True,\n",
    "                             mode='min')\n",
    "es = EarlyStopping(monitor='val_loss', mode='min', verbose=1, patience=5)\n",
    "callbacks_list = [checkpoint, es]"
   ]
  },
  {
   "cell_type": "code",
   "execution_count": 35,
   "id": "ac3dad14",
   "metadata": {
    "scrolled": true
   },
   "outputs": [
    {
     "name": "stdout",
     "output_type": "stream",
     "text": [
      "Epoch 1/50\n",
      "10/10 [==============================] - ETA: 0s - loss: 5.0144 - accuracy: 0.3997"
     ]
    },
    {
     "name": "stderr",
     "output_type": "stream",
     "text": [
      "C:\\Users\\octav\\anaconda3\\lib\\site-packages\\PIL\\Image.py:3074: DecompressionBombWarning: Image size (93680328 pixels) exceeds limit of 89478485 pixels, could be decompression bomb DOS attack.\n",
      "  warnings.warn(\n"
     ]
    },
    {
     "name": "stdout",
     "output_type": "stream",
     "text": [
      "\n",
      "Epoch 1: val_loss improved from inf to 1.92554, saving model to .\\model2_best_weights.h5\n",
      "10/10 [==============================] - 83s 8s/step - loss: 5.0144 - accuracy: 0.3997 - val_loss: 1.9255 - val_accuracy: 0.5663\n",
      "Epoch 2/50\n",
      "10/10 [==============================] - ETA: 0s - loss: 2.0886 - accuracy: 0.6037\n",
      "Epoch 2: val_loss improved from 1.92554 to 1.49374, saving model to .\\model2_best_weights.h5\n",
      "10/10 [==============================] - 81s 8s/step - loss: 2.0886 - accuracy: 0.6037 - val_loss: 1.4937 - val_accuracy: 0.6378\n",
      "Epoch 3/50\n",
      "10/10 [==============================] - ETA: 0s - loss: 1.3383 - accuracy: 0.7041\n",
      "Epoch 3: val_loss improved from 1.49374 to 1.32382, saving model to .\\model2_best_weights.h5\n",
      "10/10 [==============================] - 81s 8s/step - loss: 1.3383 - accuracy: 0.7041 - val_loss: 1.3238 - val_accuracy: 0.6582\n",
      "Epoch 4/50\n",
      "10/10 [==============================] - ETA: 0s - loss: 1.0567 - accuracy: 0.7415\n",
      "Epoch 4: val_loss improved from 1.32382 to 1.21996, saving model to .\\model2_best_weights.h5\n",
      "10/10 [==============================] - 86s 9s/step - loss: 1.0567 - accuracy: 0.7415 - val_loss: 1.2200 - val_accuracy: 0.6684\n",
      "Epoch 5/50\n",
      "10/10 [==============================] - ETA: 0s - loss: 0.8211 - accuracy: 0.7721\n",
      "Epoch 5: val_loss improved from 1.21996 to 1.14381, saving model to .\\model2_best_weights.h5\n",
      "10/10 [==============================] - 82s 8s/step - loss: 0.8211 - accuracy: 0.7721 - val_loss: 1.1438 - val_accuracy: 0.6837\n",
      "Epoch 6/50\n",
      "10/10 [==============================] - ETA: 0s - loss: 0.7065 - accuracy: 0.8163\n",
      "Epoch 6: val_loss improved from 1.14381 to 0.93352, saving model to .\\model2_best_weights.h5\n",
      "10/10 [==============================] - 82s 8s/step - loss: 0.7065 - accuracy: 0.8163 - val_loss: 0.9335 - val_accuracy: 0.7296\n",
      "Epoch 7/50\n",
      "10/10 [==============================] - ETA: 0s - loss: 0.5276 - accuracy: 0.8316\n",
      "Epoch 7: val_loss did not improve from 0.93352\n",
      "10/10 [==============================] - 82s 8s/step - loss: 0.5276 - accuracy: 0.8316 - val_loss: 1.1212 - val_accuracy: 0.7245\n",
      "Epoch 8/50\n",
      "10/10 [==============================] - ETA: 0s - loss: 0.4977 - accuracy: 0.8435\n",
      "Epoch 8: val_loss did not improve from 0.93352\n",
      "10/10 [==============================] - 82s 8s/step - loss: 0.4977 - accuracy: 0.8435 - val_loss: 1.0497 - val_accuracy: 0.7194\n",
      "Epoch 9/50\n",
      "10/10 [==============================] - ETA: 0s - loss: 0.4943 - accuracy: 0.8503\n",
      "Epoch 9: val_loss did not improve from 0.93352\n",
      "10/10 [==============================] - 81s 8s/step - loss: 0.4943 - accuracy: 0.8503 - val_loss: 1.0478 - val_accuracy: 0.7551\n",
      "Epoch 10/50\n",
      "10/10 [==============================] - ETA: 0s - loss: 0.3549 - accuracy: 0.8878\n",
      "Epoch 10: val_loss did not improve from 0.93352\n",
      "10/10 [==============================] - 82s 8s/step - loss: 0.3549 - accuracy: 0.8878 - val_loss: 0.9400 - val_accuracy: 0.7653\n",
      "Epoch 11/50\n",
      "10/10 [==============================] - ETA: 0s - loss: 0.2878 - accuracy: 0.8929\n",
      "Epoch 11: val_loss did not improve from 0.93352\n",
      "10/10 [==============================] - 82s 8s/step - loss: 0.2878 - accuracy: 0.8929 - val_loss: 0.9400 - val_accuracy: 0.7704\n",
      "Epoch 11: early stopping\n"
     ]
    }
   ],
   "source": [
    "temps2 = time.time()\n",
    "\n",
    "history2 = model2.fit(train_flow,\n",
    "                      validation_data=val_flow,\n",
    "                      batch_size=batch_size,\n",
    "                      epochs=50,\n",
    "                      callbacks=callbacks_list,\n",
    "                      verbose=1)\n",
    "\n",
    "duration2 = time.time()-temps2"
   ]
  },
  {
   "cell_type": "code",
   "execution_count": 36,
   "id": "de738f9d",
   "metadata": {
    "scrolled": true
   },
   "outputs": [
    {
     "name": "stdout",
     "output_type": "stream",
     "text": [
      "10/10 [==============================] - 60s 6s/step - loss: 0.0944 - accuracy: 0.9643\n",
      "Training Accuracy   : 0.9643\n",
      "\n",
      "4/4 [==============================] - 21s 4s/step - loss: 0.9825 - accuracy: 0.7704\n",
      "Validation Accuracy :  0.7704\n"
     ]
    }
   ],
   "source": [
    "# Score du dernier epoch\n",
    "\n",
    "loss, accuracy = model2.evaluate(train_flow, verbose=True)\n",
    "print(\"Training Accuracy   : {:.4f}\".format(accuracy))\n",
    "print()\n",
    "loss, accuracy = model2.evaluate(val_flow, verbose=True)\n",
    "print(\"Validation Accuracy :  {:.4f}\".format(accuracy))"
   ]
  },
  {
   "cell_type": "code",
   "execution_count": 37,
   "id": "e977713b",
   "metadata": {},
   "outputs": [
    {
     "name": "stdout",
     "output_type": "stream",
     "text": [
      "Validation Accuracy :  0.7398\n",
      "Validation Loss :  1.0845\n",
      "Test Accuracy       :  0.7632\n",
      "Test Loss       :  0.9853\n"
     ]
    }
   ],
   "source": [
    "# Score de l'epoch optimal\n",
    "\n",
    "model2.load_weights(model2_save_path)\n",
    "\n",
    "val_loss, val_accuracy = model2.evaluate(val_flow, verbose=False)\n",
    "print(\"Validation Accuracy :  {:.4f}\".format(val_accuracy))\n",
    "print(\"Validation Loss :  {:.4f}\".format(val_loss))\n",
    "\n",
    "test_loss, test_accuracy = model2.evaluate(test_flow, verbose=False)\n",
    "print(\"Test Accuracy       :  {:.4f}\".format(test_accuracy))\n",
    "print(\"Test Loss       :  {:.4f}\".format(test_loss))"
   ]
  },
  {
   "cell_type": "code",
   "execution_count": 38,
   "id": "f3761ea8",
   "metadata": {},
   "outputs": [],
   "source": [
    "scores.loc[\"model2\", 'val_accuracy'] = val_accuracy\n",
    "scores.loc[\"model2\", 'val_loss'] = val_loss\n",
    "scores.loc[\"model2\", 'test_accuracy'] = test_accuracy\n",
    "scores.loc[\"model2\", 'test_loss'] = test_loss\n",
    "scores.loc[\"model2\", 'time'] = duration2"
   ]
  },
  {
   "cell_type": "code",
   "execution_count": 39,
   "id": "4cb4d7cf",
   "metadata": {},
   "outputs": [
    {
     "data": {
      "image/png": "[encoded data removed]",
      "text/plain": [
       "<Figure size 1000x500 with 2 Axes>"
      ]
     },
     "metadata": {},
     "output_type": "display_data"
    }
   ],
   "source": [
    "from plot_keras_history import show_history, plot_history\n",
    "import matplotlib.pyplot as plt\n",
    "\n",
    "show_history(history2)\n",
    "plot_history(history2, path=\"standard.png\")\n",
    "plt.close()"
   ]
  },
  {
   "cell_type": "markdown",
   "id": "36015328",
   "metadata": {},
   "source": [
    "## Approche nouvelle par Dataset sans data augmentation\n",
    "\n",
    "CF https://www.tensorflow.org/tutorials/load_data/images"
   ]
  },
  {
   "cell_type": "code",
   "execution_count": 40,
   "id": "d8bbf596",
   "metadata": {},
   "outputs": [],
   "source": [
    "def dataset_fct(path, validation_split=0, data_type=None):\n",
    "    dataset = tf.keras.utils.image_dataset_from_directory(\n",
    "        path, labels='inferred', label_mode='categorical',\n",
    "        class_names=None, batch_size=batch_size,\n",
    "        image_size=(224, 224), shuffle=True,\n",
    "        seed=42, validation_split=validation_split,\n",
    "        subset=data_type)\n",
    "    return dataset"
   ]
  },
  {
   "cell_type": "code",
   "execution_count": 41,
   "id": "d2db4959",
   "metadata": {},
   "outputs": [
    {
     "name": "stderr",
     "output_type": "stream",
     "text": [
      "1:80: E501 line too long (82 > 79 characters)\n",
      "2:80: E501 line too long (82 > 79 characters)\n"
     ]
    },
    {
     "name": "stdout",
     "output_type": "stream",
     "text": [
      "Found 784 files belonging to 7 classes.\n",
      "Using 588 files for training.\n",
      "Found 784 files belonging to 7 classes.\n",
      "Using 196 files for validation.\n",
      "Found 266 files belonging to 7 classes.\n"
     ]
    }
   ],
   "source": [
    "dataset_train = dataset_fct(path,\n",
    "                            validation_split=val_size,\n",
    "                            data_type='training')\n",
    "dataset_val = dataset_fct(path,\n",
    "                          validation_split=val_size,\n",
    "                          data_type='validation')\n",
    "dataset_test = dataset_fct(path_test,\n",
    "                           validation_split=0,\n",
    "                           data_type=None)"
   ]
  },
  {
   "cell_type": "code",
   "execution_count": 42,
   "id": "7bf4f14d",
   "metadata": {
    "scrolled": true
   },
   "outputs": [
    {
     "name": "stdout",
     "output_type": "stream",
     "text": [
      "Model: \"model_2\"\n",
      "_________________________________________________________________\n",
      " Layer (type)                Output Shape              Param #   \n",
      "=================================================================\n",
      " input_3 (InputLayer)        [(None, 224, 224, 3)]     0         \n",
      "                                                                 \n",
      " block1_conv1 (Conv2D)       (None, 224, 224, 64)      1792      \n",
      "                                                                 \n",
      " block1_conv2 (Conv2D)       (None, 224, 224, 64)      36928     \n",
      "                                                                 \n",
      " block1_pool (MaxPooling2D)  (None, 112, 112, 64)      0         \n",
      "                                                                 \n",
      " block2_conv1 (Conv2D)       (None, 112, 112, 128)     73856     \n",
      "                                                                 \n",
      " block2_conv2 (Conv2D)       (None, 112, 112, 128)     147584    \n",
      "                                                                 \n",
      " block2_pool (MaxPooling2D)  (None, 56, 56, 128)       0         \n",
      "                                                                 \n",
      " block3_conv1 (Conv2D)       (None, 56, 56, 256)       295168    \n",
      "                                                                 \n",
      " block3_conv2 (Conv2D)       (None, 56, 56, 256)       590080    \n",
      "                                                                 \n",
      " block3_conv3 (Conv2D)       (None, 56, 56, 256)       590080    \n",
      "                                                                 \n",
      " block3_pool (MaxPooling2D)  (None, 28, 28, 256)       0         \n",
      "                                                                 \n",
      " block4_conv1 (Conv2D)       (None, 28, 28, 512)       1180160   \n",
      "                                                                 \n",
      " block4_conv2 (Conv2D)       (None, 28, 28, 512)       2359808   \n",
      "                                                                 \n",
      " block4_conv3 (Conv2D)       (None, 28, 28, 512)       2359808   \n",
      "                                                                 \n",
      " block4_pool (MaxPooling2D)  (None, 14, 14, 512)       0         \n",
      "                                                                 \n",
      " block5_conv1 (Conv2D)       (None, 14, 14, 512)       2359808   \n",
      "                                                                 \n",
      " block5_conv2 (Conv2D)       (None, 14, 14, 512)       2359808   \n",
      "                                                                 \n",
      " block5_conv3 (Conv2D)       (None, 14, 14, 512)       2359808   \n",
      "                                                                 \n",
      " block5_pool (MaxPooling2D)  (None, 7, 7, 512)         0         \n",
      "                                                                 \n",
      " global_average_pooling2d_2   (None, 512)              0         \n",
      " (GlobalAveragePooling2D)                                        \n",
      "                                                                 \n",
      " dense_4 (Dense)             (None, 256)               131328    \n",
      "                                                                 \n",
      " dropout_2 (Dropout)         (None, 256)               0         \n",
      "                                                                 \n",
      " dense_5 (Dense)             (None, 7)                 1799      \n",
      "                                                                 \n",
      "=================================================================\n",
      "Total params: 14,847,815\n",
      "Trainable params: 133,127\n",
      "Non-trainable params: 14,714,688\n",
      "_________________________________________________________________\n",
      "None\n"
     ]
    }
   ],
   "source": [
    "# Création du modèle\n",
    "model3 = create_model_fct()\n",
    "\n",
    "# Création du callback\n",
    "model3_save_path = \"./model3_best_weights.h5\"\n",
    "checkpoint = ModelCheckpoint(model3_save_path,\n",
    "                             monitor='val_loss',\n",
    "                             verbose=1,\n",
    "                             save_best_only=True,\n",
    "                             mode='min')\n",
    "es = EarlyStopping(monitor='val_loss', mode='min', verbose=1, patience=5)\n",
    "callbacks_list = [checkpoint, es]"
   ]
  },
  {
   "cell_type": "code",
   "execution_count": 43,
   "id": "9b82de74",
   "metadata": {
    "scrolled": true
   },
   "outputs": [
    {
     "name": "stdout",
     "output_type": "stream",
     "text": [
      "Epoch 1/50\n",
      "10/10 [==============================] - ETA: 0s - loss: 7.2344 - accuracy: 0.4371\n",
      "Epoch 1: val_loss improved from inf to 1.85400, saving model to .\\model3_best_weights.h5\n",
      "10/10 [==============================] - 60s 6s/step - loss: 7.2344 - accuracy: 0.4371 - val_loss: 1.8540 - val_accuracy: 0.7602\n",
      "Epoch 2/50\n",
      "10/10 [==============================] - ETA: 0s - loss: 2.9030 - accuracy: 0.6684\n",
      "Epoch 2: val_loss improved from 1.85400 to 1.57180, saving model to .\\model3_best_weights.h5\n",
      "10/10 [==============================] - 60s 6s/step - loss: 2.9030 - accuracy: 0.6684 - val_loss: 1.5718 - val_accuracy: 0.7551\n",
      "Epoch 3/50\n",
      "10/10 [==============================] - ETA: 0s - loss: 2.0346 - accuracy: 0.7279\n",
      "Epoch 3: val_loss improved from 1.57180 to 1.46158, saving model to .\\model3_best_weights.h5\n",
      "10/10 [==============================] - 60s 6s/step - loss: 2.0346 - accuracy: 0.7279 - val_loss: 1.4616 - val_accuracy: 0.7551\n",
      "Epoch 4/50\n",
      "10/10 [==============================] - ETA: 0s - loss: 1.5001 - accuracy: 0.7585\n",
      "Epoch 4: val_loss improved from 1.46158 to 1.40699, saving model to .\\model3_best_weights.h5\n",
      "10/10 [==============================] - 60s 6s/step - loss: 1.5001 - accuracy: 0.7585 - val_loss: 1.4070 - val_accuracy: 0.8061\n",
      "Epoch 5/50\n",
      "10/10 [==============================] - ETA: 0s - loss: 1.1082 - accuracy: 0.8010\n",
      "Epoch 5: val_loss improved from 1.40699 to 1.15871, saving model to .\\model3_best_weights.h5\n",
      "10/10 [==============================] - 60s 6s/step - loss: 1.1082 - accuracy: 0.8010 - val_loss: 1.1587 - val_accuracy: 0.8163\n",
      "Epoch 6/50\n",
      "10/10 [==============================] - ETA: 0s - loss: 0.7074 - accuracy: 0.8384\n",
      "Epoch 6: val_loss did not improve from 1.15871\n",
      "10/10 [==============================] - 60s 6s/step - loss: 0.7074 - accuracy: 0.8384 - val_loss: 1.1918 - val_accuracy: 0.7959\n",
      "Epoch 7/50\n",
      "10/10 [==============================] - ETA: 0s - loss: 0.6874 - accuracy: 0.8214\n",
      "Epoch 7: val_loss did not improve from 1.15871\n",
      "10/10 [==============================] - 59s 6s/step - loss: 0.6874 - accuracy: 0.8214 - val_loss: 1.1754 - val_accuracy: 0.7551\n",
      "Epoch 8/50\n",
      "10/10 [==============================] - ETA: 0s - loss: 0.4219 - accuracy: 0.8861\n",
      "Epoch 8: val_loss improved from 1.15871 to 1.11155, saving model to .\\model3_best_weights.h5\n",
      "10/10 [==============================] - 60s 6s/step - loss: 0.4219 - accuracy: 0.8861 - val_loss: 1.1116 - val_accuracy: 0.7959\n",
      "Epoch 9/50\n",
      "10/10 [==============================] - ETA: 0s - loss: 0.3808 - accuracy: 0.8827\n",
      "Epoch 9: val_loss did not improve from 1.11155\n",
      "10/10 [==============================] - 60s 6s/step - loss: 0.3808 - accuracy: 0.8827 - val_loss: 1.1474 - val_accuracy: 0.7959\n",
      "Epoch 10/50\n",
      "10/10 [==============================] - ETA: 0s - loss: 0.3269 - accuracy: 0.8895\n",
      "Epoch 10: val_loss did not improve from 1.11155\n",
      "10/10 [==============================] - 59s 6s/step - loss: 0.3269 - accuracy: 0.8895 - val_loss: 1.1256 - val_accuracy: 0.8112\n",
      "Epoch 11/50\n",
      "10/10 [==============================] - ETA: 0s - loss: 0.2615 - accuracy: 0.9252\n",
      "Epoch 11: val_loss did not improve from 1.11155\n",
      "10/10 [==============================] - 59s 6s/step - loss: 0.2615 - accuracy: 0.9252 - val_loss: 1.2444 - val_accuracy: 0.7857\n",
      "Epoch 12/50\n",
      "10/10 [==============================] - ETA: 0s - loss: 0.3059 - accuracy: 0.9133\n",
      "Epoch 12: val_loss did not improve from 1.11155\n",
      "10/10 [==============================] - 59s 6s/step - loss: 0.3059 - accuracy: 0.9133 - val_loss: 1.1680 - val_accuracy: 0.7959\n",
      "Epoch 13/50\n",
      "10/10 [==============================] - ETA: 0s - loss: 0.2211 - accuracy: 0.9252\n",
      "Epoch 13: val_loss did not improve from 1.11155\n",
      "10/10 [==============================] - 60s 6s/step - loss: 0.2211 - accuracy: 0.9252 - val_loss: 1.2310 - val_accuracy: 0.7908\n",
      "Epoch 13: early stopping\n"
     ]
    }
   ],
   "source": [
    "temps3 = time.time()\n",
    "\n",
    "history3 = model3.fit(dataset_train,\n",
    "                      validation_data=dataset_val,\n",
    "                      batch_size=batch_size,\n",
    "                      epochs=50,\n",
    "                      callbacks=callbacks_list,\n",
    "                      verbose=1)\n",
    "\n",
    "duration3 = time.time()-temps3"
   ]
  },
  {
   "cell_type": "code",
   "execution_count": 44,
   "id": "820118a0",
   "metadata": {
    "scrolled": true
   },
   "outputs": [
    {
     "name": "stdout",
     "output_type": "stream",
     "text": [
      "10/10 [==============================] - 45s 4s/step - loss: 0.0216 - accuracy: 0.9915\n",
      "Training Accuracy   : 0.9915\n",
      "\n",
      "4/4 [==============================] - 15s 3s/step - loss: 1.2310 - accuracy: 0.7908\n",
      "Validation Accuracy :  0.7908\n"
     ]
    }
   ],
   "source": [
    "# Score du dernier epoch\n",
    "\n",
    "loss, accuracy = model3.evaluate(dataset_train, verbose=True)\n",
    "print(\"Training Accuracy   : {:.4f}\".format(accuracy))\n",
    "print()\n",
    "loss, accuracy = model3.evaluate(dataset_val, verbose=True)\n",
    "print(\"Validation Accuracy :  {:.4f}\".format(accuracy))"
   ]
  },
  {
   "cell_type": "code",
   "execution_count": 45,
   "id": "a926f127",
   "metadata": {},
   "outputs": [
    {
     "name": "stdout",
     "output_type": "stream",
     "text": [
      "Validation Accuracy :  0.7959\n",
      "Test Accuracy       :  0.8120\n"
     ]
    }
   ],
   "source": [
    "# Score de l'epoch optimal\n",
    "\n",
    "model3.load_weights(model3_save_path)\n",
    "\n",
    "val_loss, val_accuracy = model3.evaluate(dataset_val, verbose=False)\n",
    "print(\"Validation Accuracy :  {:.4f}\".format(val_accuracy))\n",
    "\n",
    "test_loss, test_accuracy = model3.evaluate(dataset_test, verbose=False)\n",
    "print(\"Test Accuracy       :  {:.4f}\".format(test_accuracy))"
   ]
  },
  {
   "cell_type": "code",
   "execution_count": 46,
   "id": "4658a182",
   "metadata": {},
   "outputs": [],
   "source": [
    "scores.loc[\"model3\", 'val_accuracy'] = val_accuracy\n",
    "scores.loc[\"model3\", 'val_loss'] = val_loss\n",
    "scores.loc[\"model3\", 'test_accuracy'] = test_accuracy\n",
    "scores.loc[\"model3\", 'test_loss'] = test_loss\n",
    "scores.loc[\"model3\", 'time'] = duration3"
   ]
  },
  {
   "cell_type": "code",
   "execution_count": 47,
   "id": "224adc60",
   "metadata": {},
   "outputs": [
    {
     "data": {
      "image/png": "[encoded data removed]",
      "text/plain": [
       "<Figure size 1000x500 with 2 Axes>"
      ]
     },
     "metadata": {},
     "output_type": "display_data"
    }
   ],
   "source": [
    "from plot_keras_history import show_history, plot_history\n",
    "import matplotlib.pyplot as plt\n",
    "\n",
    "show_history(history3)\n",
    "plot_history(history3, path=\"standard.png\")\n",
    "plt.close()"
   ]
  },
  {
   "cell_type": "code",
   "execution_count": 48,
   "id": "10ae566c",
   "metadata": {
    "scrolled": true
   },
   "outputs": [
    {
     "name": "stdout",
     "output_type": "stream",
     "text": [
      "9/9 [==============================] - 20s 2s/step\n",
      "[0 0 0 0 0 0 0 0 0 0 0 0 0 0 0 0 0 0 0 0 0 0 0 0 0 0 0 0 0 0 0 0 0 0 0 0 0\n",
      " 0 1 1 1 1 1 1 1 1 1 1 1 1 1 1 1 1 1 1 1 1 1 1 1 1 1 1 1 1 1 1 1 1 1 1 1 1\n",
      " 1 1 2 2 2 2 2 2 2 2 2 2 2 2 2 2 2 2 2 2 2 2 2 2 2 2 2 2 2 2 2 2 2 2 2 2 2\n",
      " 2 2 2 3 3 3 3 3 3 3 3 3 3 3 3 3 3 3 3 3 3 3 3 3 3 3 3 3 3 3 3 3 3 3 3 3 3\n",
      " 3 3 3 3 4 4 4 4 4 4 4 4 4 4 4 4 4 4 4 4 4 4 4 4 4 4 4 4 4 4 4 4 4 4 4 4 4\n",
      " 4 4 4 4 4 5 5 5 5 5 5 5 5 5 5 5 5 5 5 5 5 5 5 5 5 5 5 5 5 5 5 5 5 5 5 5 5\n",
      " 5 5 5 5 5 5 6 6 6 6 6 6 6 6 6 6 6 6 6 6 6 6 6 6 6 6 6 6 6 6 6 6 6 6 6 6 6\n",
      " 6 6 6 6 6 6 6]\n",
      "\n",
      "[5 0 3 0 0 0 1 0 3 0 0 0 0 0 0 0 0 3 0 0 0 4 0 0 0 0 0 0 4 5 0 0 0 4 4 3 3\n",
      " 0 2 3 1 1 2 1 1 1 1 1 6 1 1 1 1 1 2 1 1 1 5 1 1 1 3 1 1 1 2 1 0 1 1 0 1 1\n",
      " 1 1 4 2 2 2 2 5 2 2 2 2 2 2 2 2 2 3 2 1 2 0 2 2 2 2 2 2 2 2 2 2 2 2 2 2 2\n",
      " 2 2 2 5 3 3 3 3 3 3 3 3 3 3 3 3 3 3 5 3 3 3 3 4 3 3 3 5 3 4 3 6 3 3 3 3 5\n",
      " 3 0 2 3 3 4 4 0 0 4 4 4 4 0 4 0 4 0 4 4 4 4 4 4 4 0 4 4 1 4 4 4 4 4 3 4 4\n",
      " 4 4 4 4 4 5 3 5 3 5 5 5 5 5 2 5 5 5 5 5 5 0 5 5 2 5 2 5 5 5 5 5 5 5 5 5 5\n",
      " 5 5 5 5 5 5 6 6 6 6 6 6 6 1 6 6 6 6 6 6 6 6 6 6 6 6 2 6 6 6 6 6 6 6 6 6 6\n",
      " 6 6 6 6 3 6 6]\n"
     ]
    }
   ],
   "source": [
    "y_test_num = np.argmax(y_test, axis=1)\n",
    "y_test_pred = np.argmax(model3.predict(X_test), axis=1)\n",
    "y_test_num = np.argmax(y_test, axis=1)\n",
    "print(y_test_num)\n",
    "print()\n",
    "print(y_test_pred)"
   ]
  },
  {
   "cell_type": "code",
   "execution_count": 49,
   "id": "b40e4f8a",
   "metadata": {},
   "outputs": [],
   "source": [
    "def conf_mat_transform(y_true, y_pred):\n",
    "    conf_mat = metrics.confusion_matrix(y_true, y_pred)\n",
    "\n",
    "    corresp = np.argmax(conf_mat, axis=0)\n",
    "    print(\"Correspondance des clusters : \", corresp)\n",
    "    labels = pd.Series(y_true, name=\"y_true\").to_frame()\n",
    "    labels['y_pred'] = y_pred\n",
    "    labels['y_pred_transform'] = labels['y_pred'].apply(lambda x: corresp[x])\n",
    "\n",
    "    return labels['y_pred_transform']"
   ]
  },
  {
   "cell_type": "code",
   "execution_count": 50,
   "id": "b8f2a40b",
   "metadata": {},
   "outputs": [
    {
     "name": "stdout",
     "output_type": "stream",
     "text": [
      "Correspondance des clusters :  [0 1 2 3 4 5 6]\n",
      "[[26  1  0  5  4  2  0]\n",
      " [ 2 28  4  2  0  1  1]\n",
      " [ 1  1 33  1  1  1  0]\n",
      " [ 1  0  1 29  2  4  1]\n",
      " [ 6  1  0  2 29  0  0]\n",
      " [ 1  0  3  2  0 32  0]\n",
      " [ 0  1  1  1  0  0 35]]\n",
      "\n",
      "              precision    recall  f1-score   support\n",
      "\n",
      "           0       0.70      0.68      0.69        38\n",
      "           1       0.88      0.74      0.80        38\n",
      "           2       0.79      0.87      0.82        38\n",
      "           3       0.69      0.76      0.72        38\n",
      "           4       0.81      0.76      0.78        38\n",
      "           5       0.80      0.84      0.82        38\n",
      "           6       0.95      0.92      0.93        38\n",
      "\n",
      "    accuracy                           0.80       266\n",
      "   macro avg       0.80      0.80      0.80       266\n",
      "weighted avg       0.80      0.80      0.80       266\n",
      "\n"
     ]
    }
   ],
   "source": [
    "y_test_pred_transform = conf_mat_transform(y_test_num, y_test_pred)\n",
    "conf_mat = metrics.confusion_matrix(y_test_num, y_test_pred_transform)\n",
    "print(conf_mat)\n",
    "print()\n",
    "print(metrics.classification_report(y_test_num, y_test_pred_transform))"
   ]
  },
  {
   "cell_type": "code",
   "execution_count": 51,
   "id": "082dfc86",
   "metadata": {
    "scrolled": false
   },
   "outputs": [
    {
     "data": {
      "text/plain": [
       "<Axes: >"
      ]
     },
     "execution_count": 51,
     "metadata": {},
     "output_type": "execute_result"
    },
    {
     "data": {
      "image/png": "[encoded data removed]",
      "text/plain": [
       "<Figure size 600x400 with 2 Axes>"
      ]
     },
     "metadata": {},
     "output_type": "display_data"
    }
   ],
   "source": [
    "df_cm = pd.DataFrame(conf_mat, index=list_labels,\n",
    "                     columns=[i for i in \"0123456\"])\n",
    "plt.figure(figsize=(6, 4))\n",
    "sns.heatmap(df_cm, annot=True, cmap=\"Blues\")"
   ]
  },
  {
   "cell_type": "markdown",
   "id": "1744ee0d",
   "metadata": {},
   "source": [
    "## Approche nouvelle par Dataset avec data augmentation intégrée au modèle\n",
    "\n",
    "CF https://www.tensorflow.org/tutorials/images/data_augmentation"
   ]
  },
  {
   "cell_type": "code",
   "execution_count": 52,
   "id": "33be4d62",
   "metadata": {},
   "outputs": [],
   "source": [
    "def dataset_fct(path, validation_split=0, data_type=None):\n",
    "    dataset = tf.keras.utils.image_dataset_from_directory(\n",
    "        path, labels='inferred', label_mode='categorical',\n",
    "        class_names=None, batch_size=batch_size,\n",
    "        image_size=(224, 224), shuffle=True, seed=42,\n",
    "        validation_split=validation_split, subset=data_type)\n",
    "    return dataset"
   ]
  },
  {
   "cell_type": "code",
   "execution_count": 53,
   "id": "79f47812",
   "metadata": {},
   "outputs": [
    {
     "name": "stderr",
     "output_type": "stream",
     "text": [
      "1:80: E501 line too long (82 > 79 characters)\n",
      "2:80: E501 line too long (82 > 79 characters)\n"
     ]
    },
    {
     "name": "stdout",
     "output_type": "stream",
     "text": [
      "Found 784 files belonging to 7 classes.\n",
      "Using 588 files for training.\n",
      "Found 784 files belonging to 7 classes.\n",
      "Using 196 files for validation.\n",
      "Found 266 files belonging to 7 classes.\n"
     ]
    }
   ],
   "source": [
    "dataset_train = dataset_fct(path, validation_split=val_size, data_type='training')\n",
    "dataset_val = dataset_fct(path, validation_split=val_size, data_type='validation')\n",
    "dataset_test = dataset_fct(path_test, validation_split=0, data_type=None)"
   ]
  },
  {
   "cell_type": "code",
   "execution_count": 54,
   "id": "79e82997",
   "metadata": {},
   "outputs": [],
   "source": [
    "def create_model_fct2():\n",
    "    # Data augmentation\n",
    "    data_augmentation = Sequential([\n",
    "        RandomFlip(\"horizontal\", input_shape=(224, 224, 3)),\n",
    "        RandomRotation(0.1),\n",
    "        RandomZoom(0.1),\n",
    "        # Rescaling(1./127.5, offset=-1.0)\n",
    "    ])\n",
    "\n",
    "    # Récupération modèle pré-entraîné\n",
    "    model_base = VGG16(include_top=False,\n",
    "                       weights=\"imagenet\",\n",
    "                       input_shape=(224, 224, 3))\n",
    "    for layer in model_base.layers:\n",
    "        layer.trainable = False\n",
    "\n",
    "    # Définition du nouveau modèle\n",
    "    model = Sequential([data_augmentation,\n",
    "                        Rescaling(1./127.5, offset=-1),\n",
    "                        model_base,\n",
    "                        GlobalAveragePooling2D(),\n",
    "                        Dense(256, activation='relu'),\n",
    "                        Dropout(0.5),\n",
    "                        Dense(7, activation='softmax')])\n",
    "\n",
    "    # compilation du modèle\n",
    "    model.compile(loss=\"categorical_crossentropy\",\n",
    "                  optimizer='adam',\n",
    "                  metrics=[\"accuracy\"])\n",
    "\n",
    "    print(model.summary())\n",
    "\n",
    "    return model"
   ]
  },
  {
   "cell_type": "code",
   "execution_count": 55,
   "id": "723e5b2b",
   "metadata": {
    "scrolled": true
   },
   "outputs": [
    {
     "name": "stdout",
     "output_type": "stream",
     "text": [
      "Model: \"sequential_1\"\n",
      "_________________________________________________________________\n",
      " Layer (type)                Output Shape              Param #   \n",
      "=================================================================\n",
      " sequential (Sequential)     (None, 224, 224, 3)       0         \n",
      "                                                                 \n",
      " rescaling (Rescaling)       (None, 224, 224, 3)       0         \n",
      "                                                                 \n",
      " vgg16 (Functional)          (None, 7, 7, 512)         14714688  \n",
      "                                                                 \n",
      " global_average_pooling2d_3   (None, 512)              0         \n",
      " (GlobalAveragePooling2D)                                        \n",
      "                                                                 \n",
      " dense_6 (Dense)             (None, 256)               131328    \n",
      "                                                                 \n",
      " dropout_3 (Dropout)         (None, 256)               0         \n",
      "                                                                 \n",
      " dense_7 (Dense)             (None, 7)                 1799      \n",
      "                                                                 \n",
      "=================================================================\n",
      "Total params: 14,847,815\n",
      "Trainable params: 133,127\n",
      "Non-trainable params: 14,714,688\n",
      "_________________________________________________________________\n",
      "None\n"
     ]
    }
   ],
   "source": [
    "# Création du modèle\n",
    "model4 = create_model_fct2()\n",
    "\n",
    "# Création du callback\n",
    "model4_save_path = \"./model4_best_weights.h5\"\n",
    "checkpoint = ModelCheckpoint(model4_save_path,\n",
    "                             monitor='val_loss',\n",
    "                             verbose=1,\n",
    "                             save_best_only=True,\n",
    "                             mode='min')\n",
    "es = EarlyStopping(monitor='val_loss', mode='min', verbose=1, patience=5)\n",
    "callbacks_list = [checkpoint, es]"
   ]
  },
  {
   "cell_type": "code",
   "execution_count": 56,
   "id": "f24f5ee1",
   "metadata": {
    "scrolled": true
   },
   "outputs": [
    {
     "name": "stdout",
     "output_type": "stream",
     "text": [
      "Epoch 1/50\n",
      "WARNING:tensorflow:Using a while_loop for converting RngReadAndSkip cause there is no registered converter for this op.\n",
      "WARNING:tensorflow:Using a while_loop for converting Bitcast cause there is no registered converter for this op.\n",
      "WARNING:tensorflow:Using a while_loop for converting Bitcast cause there is no registered converter for this op.\n",
      "WARNING:tensorflow:Using a while_loop for converting StatelessRandomUniformV2 cause there is no registered converter for this op.\n",
      "WARNING:tensorflow:Using a while_loop for converting ImageProjectiveTransformV3 cause there is no registered converter for this op.\n",
      "WARNING:tensorflow:Using a while_loop for converting RngReadAndSkip cause there is no registered converter for this op.\n",
      "WARNING:tensorflow:Using a while_loop for converting Bitcast cause there is no registered converter for this op.\n",
      "WARNING:tensorflow:Using a while_loop for converting Bitcast cause there is no registered converter for this op.\n",
      "WARNING:tensorflow:Using a while_loop for converting StatelessRandomUniformV2 cause there is no registered converter for this op.\n",
      "WARNING:tensorflow:Using a while_loop for converting ImageProjectiveTransformV3 cause there is no registered converter for this op.\n",
      "WARNING:tensorflow:Using a while_loop for converting RngReadAndSkip cause there is no registered converter for this op.\n",
      "WARNING:tensorflow:Using a while_loop for converting Bitcast cause there is no registered converter for this op.\n",
      "WARNING:tensorflow:Using a while_loop for converting Bitcast cause there is no registered converter for this op.\n",
      "WARNING:tensorflow:Using a while_loop for converting StatelessRandomUniformV2 cause there is no registered converter for this op.\n",
      "WARNING:tensorflow:Using a while_loop for converting ImageProjectiveTransformV3 cause there is no registered converter for this op.\n",
      "WARNING:tensorflow:Using a while_loop for converting RngReadAndSkip cause there is no registered converter for this op.\n",
      "WARNING:tensorflow:Using a while_loop for converting Bitcast cause there is no registered converter for this op.\n",
      "WARNING:tensorflow:Using a while_loop for converting Bitcast cause there is no registered converter for this op.\n",
      "WARNING:tensorflow:Using a while_loop for converting StatelessRandomUniformV2 cause there is no registered converter for this op.\n",
      "WARNING:tensorflow:Using a while_loop for converting ImageProjectiveTransformV3 cause there is no registered converter for this op.\n",
      "10/10 [==============================] - ETA: 0s - loss: 1.9572 - accuracy: 0.2092\n",
      "Epoch 1: val_loss improved from inf to 1.59073, saving model to .\\model4_best_weights.h5\n",
      "10/10 [==============================] - 64s 6s/step - loss: 1.9572 - accuracy: 0.2092 - val_loss: 1.5907 - val_accuracy: 0.5663\n",
      "Epoch 2/50\n",
      "10/10 [==============================] - ETA: 0s - loss: 1.6133 - accuracy: 0.4286\n",
      "Epoch 2: val_loss improved from 1.59073 to 1.32896, saving model to .\\model4_best_weights.h5\n",
      "10/10 [==============================] - 62s 6s/step - loss: 1.6133 - accuracy: 0.4286 - val_loss: 1.3290 - val_accuracy: 0.7245\n",
      "Epoch 3/50\n",
      "10/10 [==============================] - ETA: 0s - loss: 1.4063 - accuracy: 0.5306\n",
      "Epoch 3: val_loss improved from 1.32896 to 1.14887, saving model to .\\model4_best_weights.h5\n",
      "10/10 [==============================] - 62s 6s/step - loss: 1.4063 - accuracy: 0.5306 - val_loss: 1.1489 - val_accuracy: 0.6990\n",
      "Epoch 4/50\n",
      "10/10 [==============================] - ETA: 0s - loss: 1.2537 - accuracy: 0.6156\n",
      "Epoch 4: val_loss improved from 1.14887 to 1.02705, saving model to .\\model4_best_weights.h5\n",
      "10/10 [==============================] - 63s 6s/step - loss: 1.2537 - accuracy: 0.6156 - val_loss: 1.0271 - val_accuracy: 0.7296\n",
      "Epoch 5/50\n",
      "10/10 [==============================] - ETA: 0s - loss: 1.1491 - accuracy: 0.6361\n",
      "Epoch 5: val_loss improved from 1.02705 to 0.93430, saving model to .\\model4_best_weights.h5\n",
      "10/10 [==============================] - 62s 6s/step - loss: 1.1491 - accuracy: 0.6361 - val_loss: 0.9343 - val_accuracy: 0.7449\n",
      "Epoch 6/50\n",
      "10/10 [==============================] - ETA: 0s - loss: 1.0627 - accuracy: 0.6565\n",
      "Epoch 6: val_loss improved from 0.93430 to 0.87258, saving model to .\\model4_best_weights.h5\n",
      "10/10 [==============================] - 62s 6s/step - loss: 1.0627 - accuracy: 0.6565 - val_loss: 0.8726 - val_accuracy: 0.7449\n",
      "Epoch 7/50\n",
      "10/10 [==============================] - ETA: 0s - loss: 0.9766 - accuracy: 0.6973\n",
      "Epoch 7: val_loss improved from 0.87258 to 0.82326, saving model to .\\model4_best_weights.h5\n",
      "10/10 [==============================] - 62s 6s/step - loss: 0.9766 - accuracy: 0.6973 - val_loss: 0.8233 - val_accuracy: 0.7653\n",
      "Epoch 8/50\n",
      "10/10 [==============================] - ETA: 0s - loss: 0.9340 - accuracy: 0.7007\n",
      "Epoch 8: val_loss improved from 0.82326 to 0.78789, saving model to .\\model4_best_weights.h5\n",
      "10/10 [==============================] - 62s 6s/step - loss: 0.9340 - accuracy: 0.7007 - val_loss: 0.7879 - val_accuracy: 0.7551\n",
      "Epoch 9/50\n",
      "10/10 [==============================] - ETA: 0s - loss: 0.8681 - accuracy: 0.7347\n",
      "Epoch 9: val_loss improved from 0.78789 to 0.76608, saving model to .\\model4_best_weights.h5\n",
      "10/10 [==============================] - 62s 6s/step - loss: 0.8681 - accuracy: 0.7347 - val_loss: 0.7661 - val_accuracy: 0.7551\n",
      "Epoch 10/50\n",
      "10/10 [==============================] - ETA: 0s - loss: 0.8487 - accuracy: 0.7364\n",
      "Epoch 10: val_loss improved from 0.76608 to 0.74808, saving model to .\\model4_best_weights.h5\n",
      "10/10 [==============================] - 63s 6s/step - loss: 0.8487 - accuracy: 0.7364 - val_loss: 0.7481 - val_accuracy: 0.7602\n",
      "Epoch 11/50\n",
      "10/10 [==============================] - ETA: 0s - loss: 0.8258 - accuracy: 0.7483\n",
      "Epoch 11: val_loss improved from 0.74808 to 0.72313, saving model to .\\model4_best_weights.h5\n",
      "10/10 [==============================] - 62s 6s/step - loss: 0.8258 - accuracy: 0.7483 - val_loss: 0.7231 - val_accuracy: 0.7806\n",
      "Epoch 12/50\n",
      "10/10 [==============================] - ETA: 0s - loss: 0.8122 - accuracy: 0.7636\n",
      "Epoch 12: val_loss improved from 0.72313 to 0.71179, saving model to .\\model4_best_weights.h5\n",
      "10/10 [==============================] - 62s 6s/step - loss: 0.8122 - accuracy: 0.7636 - val_loss: 0.7118 - val_accuracy: 0.7602\n",
      "Epoch 13/50\n",
      "10/10 [==============================] - ETA: 0s - loss: 0.7762 - accuracy: 0.7840\n",
      "Epoch 13: val_loss improved from 0.71179 to 0.70607, saving model to .\\model4_best_weights.h5\n",
      "10/10 [==============================] - 62s 6s/step - loss: 0.7762 - accuracy: 0.7840 - val_loss: 0.7061 - val_accuracy: 0.7602\n",
      "Epoch 14/50\n",
      "10/10 [==============================] - ETA: 0s - loss: 0.7429 - accuracy: 0.7840\n",
      "Epoch 14: val_loss improved from 0.70607 to 0.69812, saving model to .\\model4_best_weights.h5\n",
      "10/10 [==============================] - 62s 6s/step - loss: 0.7429 - accuracy: 0.7840 - val_loss: 0.6981 - val_accuracy: 0.7653\n",
      "Epoch 15/50\n",
      "10/10 [==============================] - ETA: 0s - loss: 0.7520 - accuracy: 0.7738\n",
      "Epoch 15: val_loss improved from 0.69812 to 0.68865, saving model to .\\model4_best_weights.h5\n",
      "10/10 [==============================] - 62s 6s/step - loss: 0.7520 - accuracy: 0.7738 - val_loss: 0.6887 - val_accuracy: 0.7704\n",
      "Epoch 16/50\n",
      "10/10 [==============================] - ETA: 0s - loss: 0.6979 - accuracy: 0.7840\n",
      "Epoch 16: val_loss improved from 0.68865 to 0.68405, saving model to .\\model4_best_weights.h5\n",
      "10/10 [==============================] - 61s 6s/step - loss: 0.6979 - accuracy: 0.7840 - val_loss: 0.6841 - val_accuracy: 0.7755\n",
      "Epoch 17/50\n",
      "10/10 [==============================] - ETA: 0s - loss: 0.7531 - accuracy: 0.7551\n",
      "Epoch 17: val_loss did not improve from 0.68405\n",
      "10/10 [==============================] - 60s 6s/step - loss: 0.7531 - accuracy: 0.7551 - val_loss: 0.6867 - val_accuracy: 0.7755\n",
      "Epoch 18/50\n",
      "10/10 [==============================] - ETA: 0s - loss: 0.6838 - accuracy: 0.7993\n",
      "Epoch 18: val_loss improved from 0.68405 to 0.68024, saving model to .\\model4_best_weights.h5\n",
      "10/10 [==============================] - 60s 6s/step - loss: 0.6838 - accuracy: 0.7993 - val_loss: 0.6802 - val_accuracy: 0.7704\n",
      "Epoch 19/50\n",
      "10/10 [==============================] - ETA: 0s - loss: 0.6540 - accuracy: 0.7959\n",
      "Epoch 19: val_loss did not improve from 0.68024\n"
     ]
    },
    {
     "name": "stdout",
     "output_type": "stream",
     "text": [
      "10/10 [==============================] - 60s 6s/step - loss: 0.6540 - accuracy: 0.7959 - val_loss: 0.6878 - val_accuracy: 0.7857\n",
      "Epoch 20/50\n",
      "10/10 [==============================] - ETA: 0s - loss: 0.6840 - accuracy: 0.7823\n",
      "Epoch 20: val_loss improved from 0.68024 to 0.66279, saving model to .\\model4_best_weights.h5\n",
      "10/10 [==============================] - 60s 6s/step - loss: 0.6840 - accuracy: 0.7823 - val_loss: 0.6628 - val_accuracy: 0.7908\n",
      "Epoch 21/50\n",
      "10/10 [==============================] - ETA: 0s - loss: 0.6420 - accuracy: 0.8010\n",
      "Epoch 21: val_loss improved from 0.66279 to 0.65814, saving model to .\\model4_best_weights.h5\n",
      "10/10 [==============================] - 60s 6s/step - loss: 0.6420 - accuracy: 0.8010 - val_loss: 0.6581 - val_accuracy: 0.7857\n",
      "Epoch 22/50\n",
      "10/10 [==============================] - ETA: 0s - loss: 0.6526 - accuracy: 0.8010\n",
      "Epoch 22: val_loss did not improve from 0.65814\n",
      "10/10 [==============================] - 60s 6s/step - loss: 0.6526 - accuracy: 0.8010 - val_loss: 0.6686 - val_accuracy: 0.7908\n",
      "Epoch 23/50\n",
      "10/10 [==============================] - ETA: 0s - loss: 0.6207 - accuracy: 0.8078\n",
      "Epoch 23: val_loss improved from 0.65814 to 0.65787, saving model to .\\model4_best_weights.h5\n",
      "10/10 [==============================] - 61s 6s/step - loss: 0.6207 - accuracy: 0.8078 - val_loss: 0.6579 - val_accuracy: 0.7857\n",
      "Epoch 24/50\n",
      "10/10 [==============================] - ETA: 0s - loss: 0.6142 - accuracy: 0.8129\n",
      "Epoch 24: val_loss did not improve from 0.65787\n",
      "10/10 [==============================] - 60s 6s/step - loss: 0.6142 - accuracy: 0.8129 - val_loss: 0.6677 - val_accuracy: 0.7755\n",
      "Epoch 25/50\n",
      "10/10 [==============================] - ETA: 0s - loss: 0.6174 - accuracy: 0.8180\n",
      "Epoch 25: val_loss improved from 0.65787 to 0.65434, saving model to .\\model4_best_weights.h5\n",
      "10/10 [==============================] - 61s 6s/step - loss: 0.6174 - accuracy: 0.8180 - val_loss: 0.6543 - val_accuracy: 0.7959\n",
      "Epoch 26/50\n",
      "10/10 [==============================] - ETA: 0s - loss: 0.5735 - accuracy: 0.8316\n",
      "Epoch 26: val_loss did not improve from 0.65434\n",
      "10/10 [==============================] - 61s 6s/step - loss: 0.5735 - accuracy: 0.8316 - val_loss: 0.6631 - val_accuracy: 0.7908\n",
      "Epoch 27/50\n",
      "10/10 [==============================] - ETA: 0s - loss: 0.5831 - accuracy: 0.8299\n",
      "Epoch 27: val_loss improved from 0.65434 to 0.65292, saving model to .\\model4_best_weights.h5\n",
      "10/10 [==============================] - 61s 6s/step - loss: 0.5831 - accuracy: 0.8299 - val_loss: 0.6529 - val_accuracy: 0.7806\n",
      "Epoch 28/50\n",
      "10/10 [==============================] - ETA: 0s - loss: 0.5723 - accuracy: 0.8214\n",
      "Epoch 28: val_loss did not improve from 0.65292\n",
      "10/10 [==============================] - 61s 6s/step - loss: 0.5723 - accuracy: 0.8214 - val_loss: 0.6536 - val_accuracy: 0.8061\n",
      "Epoch 29/50\n",
      "10/10 [==============================] - ETA: 0s - loss: 0.5774 - accuracy: 0.8095\n",
      "Epoch 29: val_loss improved from 0.65292 to 0.64769, saving model to .\\model4_best_weights.h5\n",
      "10/10 [==============================] - 61s 6s/step - loss: 0.5774 - accuracy: 0.8095 - val_loss: 0.6477 - val_accuracy: 0.7959\n",
      "Epoch 30/50\n",
      "10/10 [==============================] - ETA: 0s - loss: 0.5658 - accuracy: 0.8282\n",
      "Epoch 30: val_loss did not improve from 0.64769\n",
      "10/10 [==============================] - 61s 6s/step - loss: 0.5658 - accuracy: 0.8282 - val_loss: 0.6491 - val_accuracy: 0.7908\n",
      "Epoch 31/50\n",
      "10/10 [==============================] - ETA: 0s - loss: 0.5620 - accuracy: 0.8180\n",
      "Epoch 31: val_loss did not improve from 0.64769\n",
      "10/10 [==============================] - 60s 6s/step - loss: 0.5620 - accuracy: 0.8180 - val_loss: 0.6483 - val_accuracy: 0.7959\n",
      "Epoch 32/50\n",
      "10/10 [==============================] - ETA: 0s - loss: 0.5065 - accuracy: 0.8656\n",
      "Epoch 32: val_loss improved from 0.64769 to 0.63812, saving model to .\\model4_best_weights.h5\n",
      "10/10 [==============================] - 61s 6s/step - loss: 0.5065 - accuracy: 0.8656 - val_loss: 0.6381 - val_accuracy: 0.7908\n",
      "Epoch 33/50\n",
      "10/10 [==============================] - ETA: 0s - loss: 0.4995 - accuracy: 0.8452\n",
      "Epoch 33: val_loss improved from 0.63812 to 0.63793, saving model to .\\model4_best_weights.h5\n",
      "10/10 [==============================] - 61s 6s/step - loss: 0.4995 - accuracy: 0.8452 - val_loss: 0.6379 - val_accuracy: 0.8010\n",
      "Epoch 34/50\n",
      "10/10 [==============================] - ETA: 0s - loss: 0.5104 - accuracy: 0.8418\n",
      "Epoch 34: val_loss improved from 0.63793 to 0.63061, saving model to .\\model4_best_weights.h5\n",
      "10/10 [==============================] - 61s 6s/step - loss: 0.5104 - accuracy: 0.8418 - val_loss: 0.6306 - val_accuracy: 0.7908\n",
      "Epoch 35/50\n",
      "10/10 [==============================] - ETA: 0s - loss: 0.4972 - accuracy: 0.8571\n",
      "Epoch 35: val_loss did not improve from 0.63061\n",
      "10/10 [==============================] - 60s 6s/step - loss: 0.4972 - accuracy: 0.8571 - val_loss: 0.6365 - val_accuracy: 0.8010\n",
      "Epoch 36/50\n",
      "10/10 [==============================] - ETA: 0s - loss: 0.4688 - accuracy: 0.8622\n",
      "Epoch 36: val_loss did not improve from 0.63061\n",
      "10/10 [==============================] - 60s 6s/step - loss: 0.4688 - accuracy: 0.8622 - val_loss: 0.6444 - val_accuracy: 0.7806\n",
      "Epoch 37/50\n",
      "10/10 [==============================] - ETA: 0s - loss: 0.5051 - accuracy: 0.8469\n",
      "Epoch 37: val_loss did not improve from 0.63061\n",
      "10/10 [==============================] - 60s 6s/step - loss: 0.5051 - accuracy: 0.8469 - val_loss: 0.6519 - val_accuracy: 0.7908\n",
      "Epoch 38/50\n",
      "10/10 [==============================] - ETA: 0s - loss: 0.4979 - accuracy: 0.8435\n",
      "Epoch 38: val_loss did not improve from 0.63061\n",
      "10/10 [==============================] - 61s 6s/step - loss: 0.4979 - accuracy: 0.8435 - val_loss: 0.6405 - val_accuracy: 0.7959\n",
      "Epoch 39/50\n",
      "10/10 [==============================] - ETA: 0s - loss: 0.4328 - accuracy: 0.8520\n",
      "Epoch 39: val_loss did not improve from 0.63061\n",
      "10/10 [==============================] - 60s 6s/step - loss: 0.4328 - accuracy: 0.8520 - val_loss: 0.6636 - val_accuracy: 0.7857\n",
      "Epoch 39: early stopping\n"
     ]
    }
   ],
   "source": [
    "temps4 = time.time()\n",
    "\n",
    "history4 = model4.fit(dataset_train,\n",
    "                      validation_data=dataset_val,\n",
    "                      batch_size=batch_size,\n",
    "                      epochs=50,\n",
    "                      callbacks=callbacks_list,\n",
    "                      verbose=1)\n",
    "\n",
    "duration4 = time.time()-temps4"
   ]
  },
  {
   "cell_type": "code",
   "execution_count": 57,
   "id": "ebe4683c",
   "metadata": {
    "scrolled": false
   },
   "outputs": [
    {
     "name": "stdout",
     "output_type": "stream",
     "text": [
      "10/10 [==============================] - 45s 4s/step - loss: 0.3603 - accuracy: 0.8912\n",
      "Training Accuracy   : 0.8912\n",
      "\n",
      "4/4 [==============================] - 15s 3s/step - loss: 0.6636 - accuracy: 0.7857\n",
      "Validation Accuracy :  0.7857\n"
     ]
    }
   ],
   "source": [
    "# Score du dernier epoch\n",
    "\n",
    "loss, accuracy = model4.evaluate(dataset_train, verbose=True)\n",
    "print(\"Training Accuracy   : {:.4f}\".format(accuracy))\n",
    "print()\n",
    "loss, accuracy = model4.evaluate(dataset_val, verbose=True)\n",
    "print(\"Validation Accuracy :  {:.4f}\".format(accuracy))"
   ]
  },
  {
   "cell_type": "code",
   "execution_count": 58,
   "id": "e0318ff7",
   "metadata": {},
   "outputs": [
    {
     "name": "stdout",
     "output_type": "stream",
     "text": [
      "Validation Accuracy :  0.7908\n",
      "Test Accuracy       :  0.7519\n"
     ]
    }
   ],
   "source": [
    "# Score de l'epoch optimal\n",
    "\n",
    "model4.load_weights(model4_save_path)\n",
    "\n",
    "val_loss, val_accuracy = model4.evaluate(dataset_val, verbose=False)\n",
    "print(\"Validation Accuracy :  {:.4f}\".format(val_accuracy))\n",
    "\n",
    "test_loss, test_accuracy = model4.evaluate(dataset_test, verbose=False)\n",
    "print(\"Test Accuracy       :  {:.4f}\".format(test_accuracy))"
   ]
  },
  {
   "cell_type": "code",
   "execution_count": 59,
   "id": "f4766c7d",
   "metadata": {},
   "outputs": [],
   "source": [
    "scores.loc[\"model4\", 'val_accuracy'] = val_accuracy\n",
    "scores.loc[\"model4\", 'val_loss'] = val_loss\n",
    "scores.loc[\"model4\", 'test_accuracy'] = test_accuracy\n",
    "scores.loc[\"model4\", 'test_loss'] = test_loss\n",
    "scores.loc[\"model4\", 'time'] = duration4"
   ]
  },
  {
   "cell_type": "code",
   "execution_count": 60,
   "id": "c09237d3",
   "metadata": {
    "scrolled": false
   },
   "outputs": [
    {
     "data": {
      "image/png": "[encoded data removed]",
      "text/plain": [
       "<Figure size 1000x500 with 2 Axes>"
      ]
     },
     "metadata": {},
     "output_type": "display_data"
    }
   ],
   "source": [
    "from plot_keras_history import show_history, plot_history\n",
    "import matplotlib.pyplot as plt\n",
    "\n",
    "show_history(history4)\n",
    "plot_history(history4, path=\"standard.png\")\n",
    "plt.close()"
   ]
  },
  {
   "cell_type": "markdown",
   "id": "ce4f4a9f",
   "metadata": {},
   "source": [
    "# Analyse des scores"
   ]
  },
  {
   "cell_type": "code",
   "execution_count": 61,
   "id": "83bbd859",
   "metadata": {
    "scrolled": true
   },
   "outputs": [
    {
     "data": {
      "text/html": [
       "<div>\n",
       "<style scoped>\n",
       "    .dataframe tbody tr th:only-of-type {\n",
       "        vertical-align: middle;\n",
       "    }\n",
       "\n",
       "    .dataframe tbody tr th {\n",
       "        vertical-align: top;\n",
       "    }\n",
       "\n",
       "    .dataframe thead th {\n",
       "        text-align: right;\n",
       "    }\n",
       "</style>\n",
       "<table border=\"1\" class=\"dataframe\">\n",
       "  <thead>\n",
       "    <tr style=\"text-align: right;\">\n",
       "      <th></th>\n",
       "      <th>val_accuracy</th>\n",
       "      <th>val_loss</th>\n",
       "      <th>test_accuracy</th>\n",
       "      <th>test_loss</th>\n",
       "      <th>time</th>\n",
       "    </tr>\n",
       "  </thead>\n",
       "  <tbody>\n",
       "    <tr>\n",
       "      <th>model1</th>\n",
       "      <td>0.790816</td>\n",
       "      <td>1.154027</td>\n",
       "      <td>0.804511</td>\n",
       "      <td>1.005492</td>\n",
       "      <td>930.35524</td>\n",
       "    </tr>\n",
       "    <tr>\n",
       "      <th>model2</th>\n",
       "      <td>0.739796</td>\n",
       "      <td>1.084526</td>\n",
       "      <td>0.763158</td>\n",
       "      <td>0.985325</td>\n",
       "      <td>905.83058</td>\n",
       "    </tr>\n",
       "    <tr>\n",
       "      <th>model3</th>\n",
       "      <td>0.795918</td>\n",
       "      <td>1.111554</td>\n",
       "      <td>0.81203</td>\n",
       "      <td>1.202358</td>\n",
       "      <td>776.880117</td>\n",
       "    </tr>\n",
       "    <tr>\n",
       "      <th>model4</th>\n",
       "      <td>0.790816</td>\n",
       "      <td>0.630611</td>\n",
       "      <td>0.75188</td>\n",
       "      <td>0.671281</td>\n",
       "      <td>2389.651839</td>\n",
       "    </tr>\n",
       "  </tbody>\n",
       "</table>\n",
       "</div>"
      ],
      "text/plain": [
       "       val_accuracy  val_loss test_accuracy test_loss         time\n",
       "model1     0.790816  1.154027      0.804511  1.005492    930.35524\n",
       "model2     0.739796  1.084526      0.763158  0.985325    905.83058\n",
       "model3     0.795918  1.111554       0.81203  1.202358   776.880117\n",
       "model4     0.790816  0.630611       0.75188  0.671281  2389.651839"
      ]
     },
     "execution_count": 61,
     "metadata": {},
     "output_type": "execute_result"
    }
   ],
   "source": [
    "scores"
   ]
  },
  {
   "cell_type": "code",
   "execution_count": 62,
   "id": "86960752",
   "metadata": {},
   "outputs": [],
   "source": [
    "scores = scores.reindex(columns=[\"val_accuracy\",\n",
    "                                 \"test_accuracy\",\n",
    "                                 \"val_loss\",\n",
    "                                 \"test_loss\",\n",
    "                                 \"time\"])"
   ]
  },
  {
   "cell_type": "code",
   "execution_count": 63,
   "id": "9f3e3e3b",
   "metadata": {},
   "outputs": [
    {
     "data": {
      "text/plain": [
       "<Axes: >"
      ]
     },
     "execution_count": 63,
     "metadata": {},
     "output_type": "execute_result"
    },
    {
     "data": {
      "image/png": "[encoded data removed]",
      "text/plain": [
       "<Figure size 640x480 with 1 Axes>"
      ]
     },
     "metadata": {},
     "output_type": "display_data"
    }
   ],
   "source": [
    "sns.lineplot(scores.iloc[:, :2])"
   ]
  },
  {
   "cell_type": "code",
   "execution_count": 64,
   "id": "6619bd26",
   "metadata": {},
   "outputs": [
    {
     "data": {
      "text/plain": [
       "<Axes: >"
      ]
     },
     "execution_count": 64,
     "metadata": {},
     "output_type": "execute_result"
    },
    {
     "data": {
      "image/png": "[encoded data removed]",
      "text/plain": [
       "<Figure size 640x480 with 1 Axes>"
      ]
     },
     "metadata": {},
     "output_type": "display_data"
    }
   ],
   "source": [
    "sns.lineplot(scores.iloc[:, -3:-1])"
   ]
  },
  {
   "cell_type": "code",
   "execution_count": 65,
   "id": "cf91d3eb",
   "metadata": {},
   "outputs": [
    {
     "data": {
      "image/png": "[encoded data removed]",
      "text/plain": [
       "<Figure size 1600x1600 with 6 Axes>"
      ]
     },
     "metadata": {},
     "output_type": "display_data"
    }
   ],
   "source": [
    "fig, axs = plt.subplots(3, 2, figsize=(16, 16))\n",
    "\n",
    "sns.barplot(scores.reset_index(), y='val_accuracy', x=\"index\", ax=axs[0, 0])\n",
    "axs[0, 0].title.set_text(\"Validation Accuracy\")\n",
    "sns.barplot(scores.reset_index(), y='test_accuracy', x=\"index\", ax=axs[0, 1])\n",
    "axs[0, 1].title.set_text(\"Test Accuracy\")\n",
    "sns.barplot(scores.reset_index(), y='val_loss', x=\"index\", ax=axs[1, 0])\n",
    "axs[1, 0].title.set_text(\"Validation Loss\")\n",
    "sns.barplot(scores.reset_index(), y='test_loss', x=\"index\", ax=axs[1, 1])\n",
    "axs[1, 1].title.set_text(\"Test Loss\")\n",
    "sns.barplot(scores.reset_index(), y='time', x=\"index\", ax=axs[2, 0])\n",
    "axs[2, 0].title.set_text(\"Training time\")"
   ]
  },
  {
   "cell_type": "markdown",
   "id": "acc16c0d",
   "metadata": {},
   "source": [
    "# Conclusion\n",
    "\n"
   ]
  },
  {
   "cell_type": "code",
   "execution_count": null,
   "id": "41ed432c",
   "metadata": {},
   "outputs": [],
   "source": []
  },
  {
   "cell_type": "code",
   "execution_count": null,
   "id": "09599f80",
   "metadata": {},
   "outputs": [],
   "source": []
  }
 ],
 "metadata": {
  "kernelspec": {
   "display_name": "Python 3 (ipykernel)",
   "language": "python",
   "name": "python3"
  },
  "language_info": {
   "codemirror_mode": {
    "name": "ipython",
    "version": 3
   },
   "file_extension": ".py",
   "mimetype": "text/x-python",
   "name": "python",
   "nbconvert_exporter": "python",
   "pygments_lexer": "ipython3",
   "version": "3.11.3"
  }
 },
 "nbformat": 4,
 "nbformat_minor": 5
}
